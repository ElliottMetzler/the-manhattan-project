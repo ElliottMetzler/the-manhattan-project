{
 "cells": [
  {
   "cell_type": "code",
   "execution_count": 4,
   "id": "a22553a6",
   "metadata": {},
   "outputs": [],
   "source": [
    "import pandas as pd\n",
    "from pandas import json_normalize\n",
    "import requests\n",
    "import json\n",
    "import csv\n",
    "import os\n",
    "import pickle\n",
    "import re\n",
    "\n",
    "###notes:\n",
    "# have done indexes0:3, salt(find the index), and 200:296\n",
    "\n",
    "params = {\n",
    "    'api_key':'4F60666AD7F14FE49237DE1B9E2FB925',\n",
    "    'type':'search',\n",
    "    'sort_by': 'best_seller'\n",
    "}\n",
    "\n",
    "\n",
    "INGRED_PATH = 'https://raw.githubusercontent.com/ElliottMetzler/the-manhattan-project/main/data/ingredients_data_raw.csv'\n",
    "OUT_DIR = \"data\"\n",
    "JSON_PATH = os.path.join(OUT_DIR, 'items.txt')\n",
    "OUT_PATH = os.path.join(OUT_DIR, 'ingredient_prices.csv')"
   ]
  },
  {
   "cell_type": "code",
   "execution_count": 5,
   "id": "88c8e470",
   "metadata": {},
   "outputs": [],
   "source": [
    "def load_ingredients(path):\n",
    "    \"\"\" Loads the list of ingredients to a dataframe \"\"\"\n",
    "\n",
    "    ingredients = pd.read_csv(INGRED_PATH, header = None)[200:296]\n",
    "    return ingredients[0].values.tolist()\n",
    "def get_item_jsons(params):\n",
    "    \n",
    "    json_list = []\n",
    "    ingredients = load_ingredients(INGRED_PATH)\n",
    "    for i in ingredients:\n",
    "        params['search_term'] = i\n",
    "        result = requests.get('https://api.bluecartapi.com/request', \n",
    "                                      params)\n",
    "        json_list.append(json.dumps(result.json()))\n",
    "    return json_list\n",
    "        "
   ]
  },
  {
   "cell_type": "code",
   "execution_count": 317,
   "id": "1b069f77",
   "metadata": {},
   "outputs": [],
   "source": [
    "def read_txt_as_json():\n",
    "    \n",
    "    \n",
    "    j_list = []\n",
    "    \n",
    "    with open(\"..//data//item_jsons.txt\") as text:\n",
    "        \n",
    "        json_list = [line.rstrip(\"\\n\") for line in text]\n",
    "\n",
    "        for j in json_list:\n",
    "            j_list.append(json.loads(j))\n",
    "        \n",
    "        return j_list\n",
    "\n",
    "\n",
    "            \n",
    "            "
   ]
  },
  {
   "cell_type": "code",
   "execution_count": null,
   "id": "d9bac7c7",
   "metadata": {},
   "outputs": [],
   "source": [
    "l = read_txt_as_json"
   ]
  },
  {
   "cell_type": "code",
   "execution_count": 334,
   "id": "291f74e4",
   "metadata": {},
   "outputs": [],
   "source": [
    " def get_product_info():\n",
    "        \n",
    "        j_list = read_txt_as_json()\n",
    "        product_dict = {}\n",
    "        measurements = [\" oz\", \"ml\", \" lb\", \" l\", \" ounces\", \" gal\"]\n",
    "        numbers = [\"1\", \"2\", \"3\", \"4\", \"5\", \"6\", \"7\", \"8\", \"9\",\"0\", \".\"]\n",
    "    \n",
    "        for j in j_list:\n",
    "\n",
    "            amount_temp = []\n",
    "            units_temp = []\n",
    "            price_temp = []\n",
    "            l = []\n",
    "            ingredient = j[\"request_parameters\"][\"search_term\"]\n",
    "            key = ingredient\n",
    "            product_dict.setdefault(key, [])\n",
    "            results = j[\"search_results\"]\n",
    "\n",
    "            for r in results:\n",
    "\n",
    "                numbers_temp = []\n",
    "                title = r[\"product\"][\"title\"]\n",
    "                if (ingredient in title.lower()):\n",
    "\n",
    "                    price = r[\"offers\"][\"primary\"][\"price\"]\n",
    "                    print(price)\n",
    "\n",
    "                    price_temp.append(price)\n",
    "                    print(price_temp)\n",
    "\n",
    "                    print(title)\n",
    "\n",
    "                    for m in measurements:\n",
    "                        if m in title.lower():\n",
    "                            units_temp.append(m.strip())                                \n",
    "\n",
    "                    for t in title[-15:-1]:\n",
    "                        for n in numbers:\n",
    "                            if t == n:\n",
    "                                numbers_temp.append(n)\n",
    "                            else:\n",
    "                                continue\n",
    "\n",
    "                    amount_temp.append(''.join(numbers_temp))\n",
    "\n",
    "\n",
    "            product_dict[key].append(price_temp)\n",
    "            product_dict[key].append(amount_temp)\n",
    "            product_dict[key].append(units_temp)\n",
    "\n",
    "\n",
    "            print(price_temp)\n",
    "            print(units_temp)\n",
    "            print(amount_temp)\n",
    "\n",
    "            print(product_dict)\n",
    "        return product_dict\n"
   ]
  },
  {
   "cell_type": "code",
   "execution_count": 335,
   "id": "91e29f96",
   "metadata": {
    "scrolled": true
   },
   "outputs": [
    {
     "name": "stdout",
     "output_type": "stream",
     "text": [
      "10.98\n",
      "[10.98]\n",
      "Aristocrat Vodka, 1.75 L Bottle\n",
      "5.98\n",
      "[10.98, 5.98]\n",
      "Platinum 7X Extra Smooth Vodka, 375 mL\n",
      "8.98\n",
      "[10.98, 5.98, 8.98]\n",
      "Smirnoff Raspberry Vodka 375ml\n",
      "[10.98, 5.98, 8.98]\n",
      "['l', 'ml', 'ml']\n",
      "['1.75', '375', '375']\n",
      "{'vodka': [[10.98, 5.98, 8.98], ['1.75', '375', '375'], ['l', 'ml', 'ml']]}\n"
     ]
    },
    {
     "ename": "KeyError",
     "evalue": "'search_results'",
     "output_type": "error",
     "traceback": [
      "\u001b[1;31m---------------------------------------------------------------------------\u001b[0m",
      "\u001b[1;31mKeyError\u001b[0m                                  Traceback (most recent call last)",
      "Input \u001b[1;32mIn [335]\u001b[0m, in \u001b[0;36m<cell line: 1>\u001b[1;34m()\u001b[0m\n\u001b[1;32m----> 1\u001b[0m \u001b[43mget_product_info\u001b[49m\u001b[43m(\u001b[49m\u001b[43m)\u001b[49m\n",
      "Input \u001b[1;32mIn [334]\u001b[0m, in \u001b[0;36mget_product_info\u001b[1;34m()\u001b[0m\n\u001b[0;32m     15\u001b[0m key \u001b[38;5;241m=\u001b[39m ingredient\n\u001b[0;32m     16\u001b[0m product_dict\u001b[38;5;241m.\u001b[39msetdefault(key, [])\n\u001b[1;32m---> 17\u001b[0m results \u001b[38;5;241m=\u001b[39m \u001b[43mj\u001b[49m\u001b[43m[\u001b[49m\u001b[38;5;124;43m\"\u001b[39;49m\u001b[38;5;124;43msearch_results\u001b[39;49m\u001b[38;5;124;43m\"\u001b[39;49m\u001b[43m]\u001b[49m\n\u001b[0;32m     19\u001b[0m \u001b[38;5;28;01mfor\u001b[39;00m r \u001b[38;5;129;01min\u001b[39;00m results:\n\u001b[0;32m     21\u001b[0m     numbers_temp \u001b[38;5;241m=\u001b[39m []\n",
      "\u001b[1;31mKeyError\u001b[0m: 'search_results'"
     ]
    }
   ],
   "source": [
    "get_product_info()"
   ]
  },
  {
   "cell_type": "code",
   "execution_count": 114,
   "id": "e442330f",
   "metadata": {},
   "outputs": [],
   "source": [
    "# def json_to_text(jsons, path):\n",
    "    \n",
    "    \n",
    "#     f = open(path, \"w+\")\n",
    "#     for i in jsons:\n",
    "#         f.write(i + \"\\n\")\n",
    "#     f.close()\n",
    "# def to_csv(price_dict, path):\n",
    "# \"\"\" Takes the list of (ingredient, price/oz) tuples and writes them to a csv\"\"\"\n",
    "\n",
    "#     with open(OUT_PATH, 'w+') as out_file:\n",
    "#         csv_writer = csv.writer(out_file)\n",
    "#         header = ['ingredient', 'price_per_oz']\n",
    "#         csv_writer.writerow(header)\n",
    "#         csv_writer.writerows(price_dict)"
   ]
  },
  {
   "cell_type": "code",
   "execution_count": 127,
   "id": "af68ede9",
   "metadata": {},
   "outputs": [],
   "source": [
    "# if __name__ == '__main__':\n",
    "\n",
    "#     os.makedirs(OUT_DIR, exist_ok = True)\n",
    "#     json_to_text(jsons, JSON_PATH)\n",
    "#     to_csv(item_dict, OUT_PATH)\n",
    "\n",
    "    "
   ]
  }
 ],
 "metadata": {
  "kernelspec": {
   "display_name": "Python 3 (ipykernel)",
   "language": "python",
   "name": "python3"
  },
  "language_info": {
   "codemirror_mode": {
    "name": "ipython",
    "version": 3
   },
   "file_extension": ".py",
   "mimetype": "text/x-python",
   "name": "python",
   "nbconvert_exporter": "python",
   "pygments_lexer": "ipython3",
   "version": "3.9.12"
  }
 },
 "nbformat": 4,
 "nbformat_minor": 5
}
