{
 "cells": [
  {
   "cell_type": "code",
   "execution_count": 22,
   "id": "c3d2e6e6-0dd0-4799-97a2-f77d5e017cc0",
   "metadata": {},
   "outputs": [],
   "source": [
    "import pandas as pd\n",
    "import numpy as np\n",
    "from database import engine\n",
    "import seaborn as sns\n",
    "import statsmodels.api as sm\n",
    "import matplotlib.pyplot as plt\n",
    "import subprocess\n",
    "from ingredient_map import create_ingredient_map\n",
    "from quant_preprocess import query_data\n",
    "from quant_preprocess import cols_to_lower\n",
    "from quant_preprocess import get_cols_list\n",
    "from quant_preprocess import query_and_preprocess_data\n",
    "from quant_preprocess import shape_data_long\n",
    "from quant_preprocess import merge_long\n",
    "from quant_preprocess import pivot_wide\n",
    "from quant_preprocess import recode_ingredients\n",
    "import os"
   ]
  },
  {
   "cell_type": "code",
   "execution_count": null,
   "id": "765a5ba7-1eb1-4851-bfac-cdadc62ee1a7",
   "metadata": {},
   "outputs": [],
   "source": []
  }
 ],
 "metadata": {
  "environment": {
   "kernel": "python3",
   "name": "common-cpu.m90",
   "type": "gcloud",
   "uri": "gcr.io/deeplearning-platform-release/base-cpu:m90"
  },
  "kernelspec": {
   "display_name": "Python 3",
   "language": "python",
   "name": "python3"
  },
  "language_info": {
   "codemirror_mode": {
    "name": "ipython",
    "version": 3
   },
   "file_extension": ".py",
   "mimetype": "text/x-python",
   "name": "python",
   "nbconvert_exporter": "python",
   "pygments_lexer": "ipython3",
   "version": "3.7.12"
  }
 },
 "nbformat": 4,
 "nbformat_minor": 5
}
