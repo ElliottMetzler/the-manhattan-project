{
 "cells": [
  {
   "cell_type": "code",
   "execution_count": 241,
   "id": "a22553a6",
   "metadata": {},
   "outputs": [],
   "source": [
    "import pandas as pd\n",
    "from pandas import json_normalize\n",
    "import requests\n",
    "import json\n",
    "import csv\n",
    "import os\n",
    "import re\n",
    "\n",
    "measurements = [\"oz\", \"ml\", \"lb\", \"l\", \"ounces\", \"g\"]\n",
    "numbers = [\"1\", \"2\", \"3\", \"4\", \"5\", \"6\", \"7\", \"8\", \"9\",\"0\", \".\"]\n",
    "IN_FILE_PATH = os.path.join(\"..//data\", \"items.txt\")\n",
    "OUTPUT_DIR = \"data\"\n",
    "OUTPUT_PATH = os.path.join(OUTPUT_DIR, 'ingredient_prices.csv')"
   ]
  },
  {
   "cell_type": "code",
   "execution_count": 275,
   "id": "e685fe68",
   "metadata": {},
   "outputs": [],
   "source": [
    "def load_ingredients():\n",
    "    \"\"\"Loads the list of ingredients to a list\"\"\"\n",
    "\n",
    "    df = query_and_reshape_long()\n",
    "    recoded = recode_long_data(df)\n",
    "    summary = recoded[[\"ingredient\", \"amount\"]].groupby(\"ingredient\").agg([\"mean\", \"sum\"])\n",
    "    return summary.index.values.tolist()"
   ]
  },
  {
   "cell_type": "code",
   "execution_count": 242,
   "id": "1b069f77",
   "metadata": {},
   "outputs": [],
   "source": [
    "def read_txt_as_json():\n",
    "    \n",
    "    j_list = []\n",
    "    \n",
    "    with open(IN_FILE_PATH) as text:\n",
    "        \n",
    "        json_list = [line.rstrip(\"\\n\") for line in text]\n",
    "        for j in json_list:\n",
    "            j_list.append(json.loads(j))\n",
    "        return j_list\n",
    "       "
   ]
  },
  {
   "cell_type": "code",
   "execution_count": 243,
   "id": "e905c91f",
   "metadata": {},
   "outputs": [],
   "source": [
    "def split(word):\n",
    "    return [char for char in word]"
   ]
  },
  {
   "cell_type": "code",
   "execution_count": 268,
   "id": "291f74e4",
   "metadata": {},
   "outputs": [],
   "source": [
    " def get_product_info():\n",
    "        \n",
    "        j_list = read_txt_as_json()\n",
    "        product_dict = {}\n",
    "        for j in j_list:\n",
    "            amount_temp = []\n",
    "            units_temp = []\n",
    "            price_temp = []\n",
    "            desc_temp = []\n",
    "            ingredient = j[\"request_parameters\"][\"search_term\"]\n",
    "            key = ingredient\n",
    "            product_dict.setdefault(key, [])\n",
    "            a = \"search_results\"\n",
    "            if a not in j:\n",
    "                continue\n",
    "            else:\n",
    "                results = j[\"search_results\"]\n",
    "                i = 0\n",
    "                for r in results[0:5]:\n",
    "                    n_temp = []\n",
    "                    m_temp = []\n",
    "                    title = r[\"product\"][\"title\"]\n",
    "                    chars = split(title)\n",
    "                    title_list = title.split()\n",
    "                    price = r[\"offers\"][\"primary\"][\"price\"]\n",
    "                    price_temp.append(price)\n",
    "                    desc_temp.append(title)\n",
    "                    for c in reversed(range(len(chars))):\n",
    "                        if (chars[c] not in (''.join(numbers))) and (len(n_temp) > 0):\n",
    "                            break\n",
    "                        if c ==  0:\n",
    "                            amount_temp.append(\"NA\")\n",
    "                        if chars[c] not in (''.join(numbers)):\n",
    "                            continue\n",
    "                        else:\n",
    "                            for n in numbers:\n",
    "                                if n == chars[c]:\n",
    "                                    n_temp.append(chars[c])\n",
    "                    amount_temp.append((''.join(n_temp))[::-1])\n",
    "                    for t in reversed(range(len(title_list))):\n",
    "                        for m in measurements:\n",
    "                            if len(m_temp) > 0:\n",
    "                                break\n",
    "                            if t == 0:\n",
    "                                units_temp.append(\"NA\")\n",
    "                            if m not in (title_list[t].lower()):\n",
    "                                continue\n",
    "                            else:\n",
    "                                m_temp.append(m)\n",
    "                    units_temp.append(m_temp)\n",
    "                product_dict[key].append(price_temp)\n",
    "                product_dict[key].append(amount_temp)\n",
    "                product_dict[key].append(units_temp)\n",
    "                product_dict[key].append(desc_temp)\n",
    "        return product_dict\n"
   ]
  },
  {
   "cell_type": "code",
   "execution_count": 274,
   "id": "91e29f96",
   "metadata": {
    "scrolled": true
   },
   "outputs": [
    {
     "data": {
      "text/plain": [
       "5"
      ]
     },
     "execution_count": 274,
     "metadata": {},
     "output_type": "execute_result"
    }
   ],
   "source": [
    "product_dict = get_product_info()\n",
    "len(product_dict[\"ice cream\"][0])\n",
    "\n"
   ]
  },
  {
   "cell_type": "code",
   "execution_count": 260,
   "id": "74cedeb6",
   "metadata": {},
   "outputs": [],
   "source": [
    "def drop_bad_products(product_dict):\n",
    "    for key in product_dict:\n",
    "        for name in key\n"
   ]
  },
  {
   "cell_type": "code",
   "execution_count": 261,
   "id": "f47a3df1",
   "metadata": {},
   "outputs": [
    {
     "name": "stdout",
     "output_type": "stream",
     "text": [
      "absinthe\n",
      "advocaat\n",
      "aperitif\n",
      "aquavit\n",
      "baileys\n",
      "beer\n",
      "bitters\n",
      "bourbon\n",
      "brandy\n",
      "butter\n",
      "cachaca\n",
      "carbonated water\n",
      "champagne\n",
      "cherry heering\n",
      "club soda\n",
      "coffee\n",
      "cognac\n",
      "cornstarch\n",
      "drambuie\n",
      "dry vermouth\n",
      "dubonnet rouge\n",
      "egg\n",
      "erin cream\n",
      "everclear\n",
      "flavored rum\n",
      "flavored vodka\n",
      "food coloring\n",
      "frangelico\n",
      "fruit\n",
      "fruit juice\n",
      "galliano\n",
      "gin\n",
      "glycerine\n",
      "grain alcohol\n",
      "herb\n",
      "hot sauce\n",
      "ice\n",
      "ice cream\n",
      "jagermeister\n",
      "liqueur\n",
      "milk\n",
      "mix\n",
      "nut\n",
      "olive brine\n",
      "pernod\n",
      "pisang ambon\n",
      "pisco\n",
      "port\n",
      "prosecco\n",
      "red wine\n",
      "ricard\n",
      "rum\n",
      "sambuca\n",
      "sarsaparilla\n",
      "schnapps\n",
      "scotch\n",
      "sherry\n",
      "soda\n",
      "soy sauce\n",
      "spice\n",
      "sugar\n",
      "sugard\n",
      "sweet and sour\n",
      "tequila\n",
      "tonic water\n",
      "vermouth\n",
      "vodka\n",
      "water\n",
      "whiskey\n",
      "wine\n",
      "zima\n"
     ]
    }
   ],
   "source": [
    "drop_bad_products(product_dict)"
   ]
  },
  {
   "cell_type": "code",
   "execution_count": 114,
   "id": "e442330f",
   "metadata": {},
   "outputs": [],
   "source": [
    "# def json_to_text(jsons, path):\n",
    "    \n",
    "    \n",
    "#     f = open(path, \"w+\")\n",
    "#     for i in jsons:\n",
    "#         f.write(i + \"\\n\")\n",
    "#     f.close()\n",
    "# def to_csv(price_dict, path):\n",
    "# \"\"\" Takes the list of (ingredient, price/oz) tuples and writes them to a csv\"\"\"\n",
    "\n",
    "#     with open(OUT_PATH, 'w+') as out_file:\n",
    "#         csv_writer = csv.writer(out_file)\n",
    "#         header = ['ingredient', 'price_per_oz']\n",
    "#         csv_writer.writerow(header)\n",
    "#         csv_writer.writerows(price_dict)"
   ]
  },
  {
   "cell_type": "code",
   "execution_count": 127,
   "id": "af68ede9",
   "metadata": {},
   "outputs": [],
   "source": [
    "# if __name__ == '__main__':\n",
    "\n",
    "#     os.makedirs(OUT_DIR, exist_ok = True)\n",
    "#     json_to_text(jsons, JSON_PATH)\n",
    "#     to_csv(item_dict, OUT_PATH)\n",
    "\n",
    "    "
   ]
  }
 ],
 "metadata": {
  "kernelspec": {
   "display_name": "Python 3 (ipykernel)",
   "language": "python",
   "name": "python3"
  },
  "language_info": {
   "codemirror_mode": {
    "name": "ipython",
    "version": 3
   },
   "file_extension": ".py",
   "mimetype": "text/x-python",
   "name": "python",
   "nbconvert_exporter": "python",
   "pygments_lexer": "ipython3",
   "version": "3.9.12"
  }
 },
 "nbformat": 4,
 "nbformat_minor": 5
}
