{
 "cells": [
  {
   "cell_type": "code",
   "execution_count": 19,
   "id": "a22553a6",
   "metadata": {},
   "outputs": [],
   "source": [
    "import pandas as pd\n",
    "from pandas import json_normalize\n",
    "import requests\n",
    "import json\n",
    "import csv\n",
    "import os\n",
    "import re\n",
    "from quant_preprocess import query_and_preprocess_data\n",
    "from quant_preprocess import query_and_reshape_long\n",
    "from quant_preprocess import recode_long_data\n",
    "\n",
    "\n",
    "\n",
    "#if the measurement is 750, its in ml\n",
    "#if the measurement is 12, its in oz\n",
    "\n",
    "measurements = [\"oz\", \"ml\", \"lb\", \"l\", \"ounces\", \"g\"]\n",
    "numbers = [\"1\", \"2\", \"3\", \"4\", \"5\", \"6\", \"7\", \"8\", \"9\",\"0\", \".\"]\n",
    "IN_FILE_PATH = os.path.join(\"..//data\", \"items.txt\")\n",
    "OUTPUT_DIR = \"data\"\n",
    "OUTPUT_PATH = os.path.join(OUTPUT_DIR, 'ingredient_prices.csv')"
   ]
  },
  {
   "cell_type": "code",
   "execution_count": 20,
   "id": "e685fe68",
   "metadata": {},
   "outputs": [],
   "source": [
    "def load_ingredients():\n",
    "    \"\"\"Loads the list of ingredients to a list\"\"\"\n",
    "\n",
    "    df = query_and_reshape_long()\n",
    "    recoded = recode_long_data(df)\n",
    "    summary = recoded[[\"ingredient\", \"amount\"]].groupby(\"ingredient\").agg([\"mean\", \"sum\"])\n",
    "    return summary.index.values.tolist()"
   ]
  },
  {
   "cell_type": "code",
   "execution_count": 21,
   "id": "1b069f77",
   "metadata": {},
   "outputs": [],
   "source": [
    "def read_txt_as_json():\n",
    "    \n",
    "    j_list = []\n",
    "    \n",
    "    with open(IN_FILE_PATH) as text:\n",
    "        \n",
    "        json_list = [line.rstrip(\"\\n\") for line in text]\n",
    "        for j in json_list:\n",
    "            j_list.append(json.loads(j))\n",
    "        return j_list\n",
    "       "
   ]
  },
  {
   "cell_type": "code",
   "execution_count": 22,
   "id": "e905c91f",
   "metadata": {},
   "outputs": [],
   "source": [
    "def split(word):\n",
    "    return [char for char in word]"
   ]
  },
  {
   "cell_type": "code",
   "execution_count": 23,
   "id": "291f74e4",
   "metadata": {},
   "outputs": [],
   "source": [
    " def get_product_info():\n",
    "        \n",
    "        j_list = read_txt_as_json()\n",
    "        product_dict = {}\n",
    "        for j in j_list:\n",
    "            amount_temp = []\n",
    "            units_temp = []\n",
    "            price_temp = []\n",
    "            desc_temp = []\n",
    "            ingredient = j[\"request_parameters\"][\"search_term\"]\n",
    "            key = ingredient\n",
    "            product_dict.setdefault(key, [])\n",
    "            a = \"search_results\"\n",
    "            if a not in j:\n",
    "                continue\n",
    "            else:\n",
    "                results = j[\"search_results\"]\n",
    "                i = 0\n",
    "                for r in results[0:5]:\n",
    "                    n_temp = []\n",
    "                    m_temp = []\n",
    "                    title = r[\"product\"][\"title\"]\n",
    "                    chars = split(title)\n",
    "                    title_list = title.split()\n",
    "                    price = r[\"offers\"][\"primary\"][\"price\"]\n",
    "                    price_temp.append(price)\n",
    "                    desc_temp.append(title)\n",
    "                    for c in reversed(range(len(chars))):\n",
    "                        if (chars[c] not in (''.join(numbers))) and (len(n_temp) > 0):\n",
    "                            break\n",
    "                        if c ==  0:\n",
    "                            amount_temp.append(\"NA\")\n",
    "                        if chars[c] not in (''.join(numbers)):\n",
    "                            continue\n",
    "                        else:\n",
    "                            for n in numbers:\n",
    "                                if n == chars[c]:\n",
    "                                    n_temp.append(chars[c])\n",
    "                    amount_temp.append((''.join(n_temp))[::-1])\n",
    "                    for t in reversed(range(len(title_list))):\n",
    "                        for m in measurements:\n",
    "                            if len(m_temp) > 0:\n",
    "                                break\n",
    "                            if t == 0:\n",
    "                                units_temp.append(\"NA\")\n",
    "                            if m not in (title_list[t].lower()):\n",
    "                                continue\n",
    "                            else:\n",
    "                                m_temp.append(m)\n",
    "                    units_temp.append(m_temp)\n",
    "                product_dict[key].append(price_temp)\n",
    "                product_dict[key].append(amount_temp)\n",
    "                product_dict[key].append(units_temp)\n",
    "                product_dict[key].append(desc_temp)\n",
    "        return product_dict\n"
   ]
  },
  {
   "cell_type": "code",
   "execution_count": 24,
   "id": "74cedeb6",
   "metadata": {},
   "outputs": [],
   "source": [
    "def drop_bad_products(product_dict):\n",
    "    \n",
    "    ingredients = load_ingredients()\n",
    "    for i in ingredients:\n",
    "        if (len(product_dict[i]) == 0):\n",
    "            del product_dict[i]\n",
    "        else:\n",
    "            for n in range(0,3):\n",
    "                if (len(product_dict[i][n]) !=5):\n",
    "                    del product_dict[i]\n",
    "                    break\n",
    "    return product_dict\n",
    "        \n"
   ]
  },
  {
   "cell_type": "code",
   "execution_count": 25,
   "id": "f2f329d2",
   "metadata": {},
   "outputs": [],
   "source": [
    "def set_index(df):\n",
    "    index = ['price', 'measurement', 'units', 'description']\n",
    "    df = pd.DataFrame(d)\n",
    "    df['index'] = index\n",
    "    df.set_index('index')\n",
    "    return df"
   ]
  },
  {
   "cell_type": "code",
   "execution_count": 28,
   "id": "e442330f",
   "metadata": {},
   "outputs": [],
   "source": [
    "def to_csv(df, path):\n",
    "#\"\"Takes the dataframe and writes it to a csv\"\"\n",
    "\n",
    "    with open(OUT_FILE_PATH, 'w+') as out_file:\n",
    "        df.to_csv(OUT_FILE_PATH)\n",
    "        "
   ]
  },
  {
   "cell_type": "code",
   "execution_count": 127,
   "id": "af68ede9",
   "metadata": {},
   "outputs": [],
   "source": [
    "# if __name__ == '__main__':\n",
    "\n",
    "#     os.makedirs(OUT_DIR, exist_ok = True)\n",
    "#     to_csv(item_dict, OUT_PATH)\n",
    "\n",
    "    "
   ]
  }
 ],
 "metadata": {
  "environment": {
   "kernel": "python3",
   "name": "common-cpu.m90",
   "type": "gcloud",
   "uri": "gcr.io/deeplearning-platform-release/base-cpu:m90"
  },
  "kernelspec": {
   "display_name": "Python 3",
   "language": "python",
   "name": "python3"
  },
  "language_info": {
   "codemirror_mode": {
    "name": "ipython",
    "version": 3
   },
   "file_extension": ".py",
   "mimetype": "text/x-python",
   "name": "python",
   "nbconvert_exporter": "python",
   "pygments_lexer": "ipython3",
   "version": "3.7.12"
  }
 },
 "nbformat": 4,
 "nbformat_minor": 5
}
