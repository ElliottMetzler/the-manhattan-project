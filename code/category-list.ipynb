{
 "cells": [
  {
   "cell_type": "code",
   "execution_count": 15,
   "id": "f68bebca-c4e2-4484-b32a-314a56ede15b",
   "metadata": {},
   "outputs": [],
   "source": [
    "import pandas as pd\n",
    "from quant_preprocess import query_and_preprocess_data\n",
    "df = df[~df.index.duplicated()]\n",
    "df = query_and_preprocess_data()\n",
    "\n",
    "\n",
    "def summmary_of_oz(df):\n",
    "   \n",
    "    return df.describe().transpose().sort_values('mean',\n",
    "                                ascending = False).head(10)\n",
    "\n",
    "def create_dummies(df):\n",
    "    \n",
    "    headers = df.columns[1:]\n",
    "    d = {'strdrink': df['strdrink'].values.tolist()}\n",
    "    for e in range(0, len(headers)):\n",
    "        d[headers[e]] = (df[str(headers[e])] > 0).astype(int).values.tolist()\n",
    "    return pd.DataFrame.from_dict(d)\n",
    "    \n",
    "\n",
    "# still working on this, i dont want to have to make two dicts\n",
    "def summary_of_usage():\n",
    "    df = query_and_preprocess_data()\n",
    "    df = create_dummies(df)\n",
    "    dum_df = create_dummies(df)\n",
    "    headers = df.columns[1:].values.tolist()\n",
    "    data = dum_df.describe().transpose().sort_values('mean', \n",
    "                                    ascending=False).head(10)\n",
    "    \n",
    "        \n",
    "    return data"
   ]
  },
  {
   "cell_type": "code",
   "execution_count": 19,
   "id": "1784e80a-1791-4fb1-a8c2-d1045b3ff82c",
   "metadata": {},
   "outputs": [],
   "source": [
    "from pandas import json_normalize\n",
    "import requests\n",
    "import pandas as pd\n",
    "import os\n",
    "import string"
   ]
  },
  {
   "cell_type": "code",
   "execution_count": 20,
   "id": "d96bebc2-e12b-43cf-a7fa-813e378d1b84",
   "metadata": {},
   "outputs": [],
   "source": [
    "BASE_DIR = \"data\"\n",
    "DATA_OUT_PATH = os.path.join(BASE_DIR, \"drinks_data_raw.csv\")\n",
    "INGREDIENTS_OUT_PATH = os.path.join(BASE_DIR, \"ingredients_data_raw.csv\")\n",
    "ALPHA = list(string.ascii_lowercase)\n",
    "NUM = list(string.digits)\n",
    "NUM.extend(ALPHA)\n",
    "NUM.remove(\"0\")\n",
    "NUM.remove(\"8\")"
   ]
  },
  {
   "cell_type": "code",
   "execution_count": 2,
   "id": "bde83051-ed91-44a6-a919-25d08baa1195",
   "metadata": {},
   "outputs": [],
   "source": [
    "import pandas as pd\n",
    "from pandas import json_normalize\n",
    "import requests\n",
    "import json\n",
    "import os\n",
    "from quant_preprocess import query_and_preprocess_data\n",
    "from quant_preprocess import query_and_reshape_long\n",
    "from quant_preprocess import recode_long_data"
   ]
  },
  {
   "cell_type": "code",
   "execution_count": 3,
   "id": "3e42e027-edbc-4b86-a034-25f104f2a4c3",
   "metadata": {},
   "outputs": [],
   "source": [
    "import pandas as pd\n",
    "import numpy as np\n",
    "from database import engine\n",
    "from ingredient_map import create_ingredient_map"
   ]
  },
  {
   "cell_type": "code",
   "execution_count": 6,
   "id": "0d3f4f49-1c57-49f0-bd0b-e6baf583172e",
   "metadata": {},
   "outputs": [],
   "source": [
    "import pandas as pd\n",
    "from quant_preprocess import query_and_preprocess_data\n",
    "from quant_preprocess import query_and_reshape_long\n",
    "from quant_preprocess import recode_long_data"
   ]
  },
  {
   "cell_type": "code",
   "execution_count": 7,
   "id": "c5ea4172-97fa-40cc-8c3a-1f75564c79f0",
   "metadata": {},
   "outputs": [
    {
     "name": "stdout",
     "output_type": "stream",
     "text": [
      "===========================================================================\n",
      "Sample Output of query_and_reshape_long\n",
      "===========================================================================\n",
      "           strdrink                  ingredient  amount\n",
      "0    1-900-FUK-MEUP              absolut kurant    0.50\n",
      "1    1-900-FUK-MEUP               grand marnier    0.25\n",
      "2    1-900-FUK-MEUP  chambord raspberry liqueur    0.25\n",
      "3    1-900-FUK-MEUP        midori melon liqueur    0.25\n",
      "4    1-900-FUK-MEUP                  malibu rum    0.25\n",
      "5    1-900-FUK-MEUP                    amaretto    0.25\n",
      "6    1-900-FUK-MEUP             cranberry juice    0.50\n",
      "7    1-900-FUK-MEUP             pineapple juice    0.25\n",
      "8  110 in the shade                       lager   16.00\n",
      "9  110 in the shade                     tequila    1.50\n",
      "                      amount       \n",
      "                        mean    sum\n",
      "ingredient                         \n",
      "151 proof rum       1.200000  18.00\n",
      "7-up                3.833333  23.00\n",
      "absinthe            1.133333   3.40\n",
      "absolut citron      1.198750   9.59\n",
      "absolut kurant      1.750000   5.25\n",
      "...                      ...    ...\n",
      "wormwood            1.000000   2.00\n",
      "yellow chartreuse   0.625000   1.25\n",
      "yoghurt             1.166667  10.50\n",
      "yukon jack          1.000000   1.00\n",
      "zima               12.000000  24.00\n",
      "\n",
      "[344 rows x 2 columns]\n"
     ]
    }
   ],
   "source": [
    "df = query_and_reshape_long()\n",
    "print(\"=\"*75)\n",
    "print(\"Sample Output of query_and_reshape_long\")\n",
    "print(\"=\"*75)\n",
    "print(df.head(10))\n",
    "\n",
    "summary = df[[\"ingredient\", \"amount\"]].groupby(\"ingredient\").agg([\"mean\", \"sum\"])\n",
    "\n",
    "print(summary)"
   ]
  },
  {
   "cell_type": "code",
   "execution_count": 8,
   "id": "2b757cb9-e0c6-4139-9eae-04ab1f2d172b",
   "metadata": {},
   "outputs": [
    {
     "name": "stdout",
     "output_type": "stream",
     "text": [
      "===========================================================================\n",
      "Sample Output of calling recode_long_data on output from query_and_reshape_long\n",
      "===========================================================================\n",
      "           strdrink      ingredient  amount\n",
      "0    1-900-FUK-MEUP  flavored vodka    0.50\n",
      "1    1-900-FUK-MEUP         liqueur    0.25\n",
      "2    1-900-FUK-MEUP         liqueur    0.25\n",
      "3    1-900-FUK-MEUP         liqueur    0.25\n",
      "4    1-900-FUK-MEUP             rum    0.25\n",
      "5    1-900-FUK-MEUP         liqueur    0.25\n",
      "6    1-900-FUK-MEUP     fruit juice    0.50\n",
      "7    1-900-FUK-MEUP     fruit juice    0.25\n",
      "8  110 in the shade            beer   16.00\n",
      "9  110 in the shade         tequila    1.50\n",
      "                amount         \n",
      "                  mean      sum\n",
      "ingredient                     \n",
      "absinthe      1.133333     3.40\n",
      "advocaat      3.250000     6.50\n",
      "aperitif      8.144737   154.75\n",
      "aquavit       4.000000     4.00\n",
      "baileys       1.283636    28.24\n",
      "...                ...      ...\n",
      "vodka        19.356286  2032.41\n",
      "water         4.606250   184.25\n",
      "whiskey      22.367805   917.08\n",
      "wine        109.928571   769.50\n",
      "zima         12.000000    24.00\n",
      "\n",
      "[71 rows x 2 columns]\n"
     ]
    }
   ],
   "source": [
    "recoded = recode_long_data(df)\n",
    "print(\"=\"*75)\n",
    "print(\"Sample Output of calling recode_long_data on output from query_and_reshape_long\")\n",
    "print(\"=\"*75)\n",
    "print(recoded.head(10))\n",
    "\n",
    "summary = recoded[[\"ingredient\", \"amount\"]].groupby(\"ingredient\").agg([\"mean\", \"sum\"])\n",
    "\n",
    "print(summary)"
   ]
  },
  {
   "cell_type": "code",
   "execution_count": 9,
   "id": "0c0d0417-f278-409c-bab8-b4d68b972718",
   "metadata": {},
   "outputs": [
    {
     "name": "stdout",
     "output_type": "stream",
     "text": [
      "===========================================================================\n",
      "Sample Output of query_and_preprocess_data\n",
      "===========================================================================\n",
      "ingredient                     strdrink  absinthe  advocaat  aperitif  \\\n",
      "0                        1-900-FUK-MEUP       0.0       0.0       0.0   \n",
      "1                      110 in the shade       0.0       0.0       0.0   \n",
      "2                151 Florida Bushwacker       0.0       0.0       0.0   \n",
      "3                           155 Belmont       0.0       0.0       0.0   \n",
      "4                         24k nightmare       0.0       0.0       0.0   \n",
      "5                                   252       0.0       0.0       0.0   \n",
      "6                            3 Wise Men       0.0       0.0       0.0   \n",
      "7           3-Mile Long Island Iced Tea       0.0       0.0       0.0   \n",
      "8                              410 Gone       0.0       0.0       0.0   \n",
      "9                                 50/50       0.0       0.0       0.0   \n",
      "\n",
      "ingredient  aquavit  baileys      beer   bitters   bourbon  brandy  ...  \\\n",
      "0               0.0      0.0  0.000000  0.000000  0.000000     0.0  ...   \n",
      "1               0.0      0.0  0.914286  0.000000  0.000000     0.0  ...   \n",
      "2               0.0      0.0  0.000000  0.000000  0.000000     0.0  ...   \n",
      "3               0.0      0.0  0.000000  0.000000  0.000000     0.0  ...   \n",
      "4               0.0      0.0  0.000000  0.000000  0.000000     0.0  ...   \n",
      "5               0.0      0.0  0.000000  0.000000  0.500000     0.0  ...   \n",
      "6               0.0      0.0  0.000000  0.000000  0.333333     0.0  ...   \n",
      "7               0.0      0.0  0.000000  0.153846  0.000000     0.0  ...   \n",
      "8               0.0      0.0  0.000000  0.000000  0.000000     0.0  ...   \n",
      "9               0.0      0.0  0.000000  0.000000  0.000000     0.0  ...   \n",
      "\n",
      "ingredient  sugard  sweet and sour   tequila  tonic water  vermouth     vodka  \\\n",
      "0              0.0        0.000000  0.000000          0.0       0.0  0.000000   \n",
      "1              0.0        0.000000  0.085714          0.0       0.0  0.000000   \n",
      "2              0.0        0.000000  0.000000          0.0       0.0  0.000000   \n",
      "3              0.0        0.000000  0.000000          0.0       0.0  0.200000   \n",
      "4              0.0        0.000000  0.000000          0.0       0.0  0.000000   \n",
      "5              0.0        0.000000  0.000000          0.0       0.0  0.000000   \n",
      "6              0.0        0.000000  0.000000          0.0       0.0  0.000000   \n",
      "7              0.0        0.230769  0.076923          0.0       0.0  0.076923   \n",
      "8              0.0        0.000000  0.000000          0.0       0.0  0.000000   \n",
      "9              0.0        0.000000  0.000000          0.0       0.0  0.000000   \n",
      "\n",
      "ingredient  water   whiskey  wine  zima  \n",
      "0             0.0  0.000000   0.0   0.0  \n",
      "1             0.0  0.000000   0.0   0.0  \n",
      "2             0.0  0.000000   0.0   0.0  \n",
      "3             0.0  0.000000   0.0   0.0  \n",
      "4             0.0  0.000000   0.0   0.0  \n",
      "5             0.0  0.000000   0.0   0.0  \n",
      "6             0.0  0.333333   0.0   0.0  \n",
      "7             0.0  0.000000   0.0   0.0  \n",
      "8             0.0  0.000000   0.0   0.0  \n",
      "9             0.0  0.000000   0.0   0.0  \n",
      "\n",
      "[10 rows x 72 columns]\n"
     ]
    }
   ],
   "source": [
    "df = query_and_preprocess_data()\n",
    "print(\"=\"*75)\n",
    "print(\"Sample Output of query_and_preprocess_data\")\n",
    "print(\"=\"*75)\n",
    "print(df.head(10))"
   ]
  },
  {
   "cell_type": "code",
   "execution_count": null,
   "id": "3e131b29-8f75-48da-ba61-331b73475df8",
   "metadata": {},
   "outputs": [],
   "source": []
  }
 ],
 "metadata": {
  "environment": {
   "kernel": "python3",
   "name": "common-cpu.m90",
   "type": "gcloud",
   "uri": "gcr.io/deeplearning-platform-release/base-cpu:m90"
  },
  "kernelspec": {
   "display_name": "Python 3",
   "language": "python",
   "name": "python3"
  },
  "language_info": {
   "codemirror_mode": {
    "name": "ipython",
    "version": 3
   },
   "file_extension": ".py",
   "mimetype": "text/x-python",
   "name": "python",
   "nbconvert_exporter": "python",
   "pygments_lexer": "ipython3",
   "version": "3.7.12"
  }
 },
 "nbformat": 4,
 "nbformat_minor": 5
}
