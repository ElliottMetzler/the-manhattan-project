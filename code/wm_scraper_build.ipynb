{
 "cells": [
  {
   "cell_type": "code",
   "execution_count": 34,
   "id": "47c3d2f2",
   "metadata": {},
   "outputs": [],
   "source": [
    "import pandas as pd\n",
    "import requests\n",
    "from bs4 import BeautifulSoup\n",
    "import csv\n",
    "import time\n",
    "import random"
   ]
  },
  {
   "cell_type": "code",
   "execution_count": 35,
   "id": "7d7e6fe2",
   "metadata": {},
   "outputs": [],
   "source": [
    "url_file = 'https://raw.githubusercontent.com/ElliottMetzler/the-manhattan-project/get_data/data/ingredients.csv'\n",
    "data = pd.read_csv(url_file, header=None)"
   ]
  },
  {
   "cell_type": "code",
   "execution_count": 36,
   "id": "b413bfa5",
   "metadata": {},
   "outputs": [],
   "source": [
    "header = {'User-Agent': 'Mozilla/5.0 (Windows NT 10.0; Win64; x64; rv:99.0) Gecko/20100101 Firefox/99.0',\n",
    "'Accept': '*/*',\n",
    "'Accept-Language': 'en-US,en;q=0.5',\n",
    "'Accept-Encoding': 'gzip, deflate, br',\n",
    "'Origin': 'https://www.walmart.com',\n",
    "'Connection': 'keep-alive',\n",
    "'Referer': 'https://www.walmart.com/',\n",
    "'Cookie': 'U=e33b391aebc7946c7f4ae8b7b120d8e5; s=b09113a20b79b2bdde3523b9467cdd73',\n",
    "'TE': 'trailers',\n",
    "'Sec-Fetch-Dest': 'empty',\n",
    "'Sec-Fetch-Mode': 'cors',\n",
    "'Sec-Fetch-Site': 'cross-site'}"
   ]
  },
  {
   "cell_type": "code",
   "execution_count": 37,
   "id": "1440aedf",
   "metadata": {},
   "outputs": [],
   "source": [
    "cookie = 'U=e33b391aebc7946c7f4ae8b7b120d8e5; s=b09113a20b79b2bdde3523b9467cdd73'\n",
    "def get_wm_search(query):\n",
    "    url = \"https://www.walmart.com/search?q=\"+query\n",
    "    page = requests.get(url, headers=header)\n",
    "    if page.status_code == 200:\n",
    "        return page\n",
    "    else:\n",
    "        return \"Error\""
   ]
  },
  {
   "cell_type": "code",
   "execution_count": 38,
   "id": "b04f17ea",
   "metadata": {
    "scrolled": true
   },
   "outputs": [],
   "source": [
    "ingredients_links = []\n",
    "not_in_wm =[]\n",
    "def get_all_ingredients(data):\n",
    "    for i in data[0]:\n",
    "        if get_wm_search(i) != \"Error\":\n",
    "            soup = BeautifulSoup(get_wm_search(i).content)\n",
    "            ingredients_links.append(soup)\n",
    "        else:\n",
    "            not_in_wm.append(i)\n",
    "        time.sleep(random.uniform(5, 10))"
   ]
  },
  {
   "cell_type": "code",
   "execution_count": 25,
   "id": "3a399202",
   "metadata": {},
   "outputs": [],
   "source": [
    "def get_page_prices(soup):\n",
    "    price_list = []\n",
    "    page_results = soup.find('div', {'class': 'flex flex-wrap justify-start items-center lh-title mb2 mb1-m'})\n",
    "    for p in page_results:\n",
    "        price_oz = p.find('div', {'class': 'f7 f6-l gray mr1'}).text\n",
    "        price_list.append(price_oz)\n",
    "    return price_list"
   ]
  },
  {
   "cell_type": "code",
   "execution_count": 39,
   "id": "33360b0b",
   "metadata": {
    "scrolled": true
   },
   "outputs": [
    {
     "ename": "KeyboardInterrupt",
     "evalue": "",
     "output_type": "error",
     "traceback": [
      "\u001b[1;31m---------------------------------------------------------------------------\u001b[0m",
      "\u001b[1;31mKeyboardInterrupt\u001b[0m                         Traceback (most recent call last)",
      "Input \u001b[1;32mIn [39]\u001b[0m, in \u001b[0;36m<cell line: 1>\u001b[1;34m()\u001b[0m\n\u001b[1;32m----> 1\u001b[0m \u001b[43mget_all_ingredients\u001b[49m\u001b[43m(\u001b[49m\u001b[43mdata\u001b[49m\u001b[43m)\u001b[49m\n",
      "Input \u001b[1;32mIn [38]\u001b[0m, in \u001b[0;36mget_all_ingredients\u001b[1;34m(data)\u001b[0m\n\u001b[0;32m      8\u001b[0m \u001b[38;5;28;01melse\u001b[39;00m:\n\u001b[0;32m      9\u001b[0m     not_in_wm\u001b[38;5;241m.\u001b[39mappend(i)\n\u001b[1;32m---> 10\u001b[0m \u001b[43mtime\u001b[49m\u001b[38;5;241;43m.\u001b[39;49m\u001b[43msleep\u001b[49m\u001b[43m(\u001b[49m\u001b[43mrandom\u001b[49m\u001b[38;5;241;43m.\u001b[39;49m\u001b[43muniform\u001b[49m\u001b[43m(\u001b[49m\u001b[38;5;241;43m5\u001b[39;49m\u001b[43m,\u001b[49m\u001b[43m \u001b[49m\u001b[38;5;241;43m10\u001b[39;49m\u001b[43m)\u001b[49m\u001b[43m)\u001b[49m\n",
      "\u001b[1;31mKeyboardInterrupt\u001b[0m: "
     ]
    }
   ],
   "source": [
    "get_all_ingredients(data)"
   ]
  },
  {
   "cell_type": "code",
   "execution_count": 22,
   "id": "17208553",
   "metadata": {},
   "outputs": [
    {
     "ename": "AttributeError",
     "evalue": "'NoneType' object has no attribute 'text'",
     "output_type": "error",
     "traceback": [
      "\u001b[1;31m---------------------------------------------------------------------------\u001b[0m",
      "\u001b[1;31mAttributeError\u001b[0m                            Traceback (most recent call last)",
      "Input \u001b[1;32mIn [22]\u001b[0m, in \u001b[0;36m<cell line: 1>\u001b[1;34m()\u001b[0m\n\u001b[1;32m----> 1\u001b[0m \u001b[43mget_page_prices\u001b[49m\u001b[43m(\u001b[49m\u001b[43mingredients_links\u001b[49m\u001b[43m[\u001b[49m\u001b[38;5;241;43m0\u001b[39;49m\u001b[43m]\u001b[49m\u001b[43m)\u001b[49m\n",
      "Input \u001b[1;32mIn [20]\u001b[0m, in \u001b[0;36mget_page_prices\u001b[1;34m(soup)\u001b[0m\n\u001b[0;32m      3\u001b[0m page_results \u001b[38;5;241m=\u001b[39m soup\u001b[38;5;241m.\u001b[39mfind_all(\u001b[38;5;124m'\u001b[39m\u001b[38;5;124mdiv\u001b[39m\u001b[38;5;124m'\u001b[39m, {\u001b[38;5;124m'\u001b[39m\u001b[38;5;124mclass\u001b[39m\u001b[38;5;124m'\u001b[39m: \u001b[38;5;124m'\u001b[39m\u001b[38;5;124mflex flex-wrap justify-start items-center lh-title mb2 mb1-m\u001b[39m\u001b[38;5;124m'\u001b[39m})\n\u001b[0;32m      4\u001b[0m \u001b[38;5;28;01mfor\u001b[39;00m p \u001b[38;5;129;01min\u001b[39;00m page_results:\n\u001b[1;32m----> 5\u001b[0m     price_oz \u001b[38;5;241m=\u001b[39m \u001b[43mp\u001b[49m\u001b[38;5;241;43m.\u001b[39;49m\u001b[43mfind\u001b[49m\u001b[43m(\u001b[49m\u001b[38;5;124;43m'\u001b[39;49m\u001b[38;5;124;43mdiv\u001b[39;49m\u001b[38;5;124;43m'\u001b[39;49m\u001b[43m,\u001b[49m\u001b[43m \u001b[49m\u001b[43m{\u001b[49m\u001b[38;5;124;43m'\u001b[39;49m\u001b[38;5;124;43mclass\u001b[39;49m\u001b[38;5;124;43m'\u001b[39;49m\u001b[43m:\u001b[49m\u001b[43m \u001b[49m\u001b[38;5;124;43m'\u001b[39;49m\u001b[38;5;124;43mf7 f6-l gray mr1\u001b[39;49m\u001b[38;5;124;43m'\u001b[39;49m\u001b[43m}\u001b[49m\u001b[43m)\u001b[49m\u001b[38;5;241;43m.\u001b[39;49m\u001b[43mtext\u001b[49m\n\u001b[0;32m      6\u001b[0m     price_list\u001b[38;5;241m.\u001b[39mappend(price_oz)\n\u001b[0;32m      7\u001b[0m \u001b[38;5;28;01mreturn\u001b[39;00m price_list\n",
      "\u001b[1;31mAttributeError\u001b[0m: 'NoneType' object has no attribute 'text'"
     ]
    }
   ],
   "source": [
    "get_page_prices(ingredients_links[0])"
   ]
  },
  {
   "cell_type": "code",
   "execution_count": 27,
   "id": "93e8685e",
   "metadata": {},
   "outputs": [
    {
     "data": {
      "text/plain": [
       "<div class=\"flex flex-wrap justify-start items-center lh-title mb2 mb1-m\"><div aria-hidden=\"true\" class=\"normal gray f5 mr1 mr2-xl lh-copy f4-l\">$10.98</div><span class=\"w_AM\">current price $10.98</span><div class=\"f7 f6-l gray mr1\">18.6 ¢/fl oz</div></div>"
      ]
     },
     "execution_count": 27,
     "metadata": {},
     "output_type": "execute_result"
    }
   ],
   "source": [
    "ingredients_links[0].find('div', {'class': 'flex flex-wrap justify-start items-center lh-title mb2 mb1-m'})"
   ]
  },
  {
   "cell_type": "code",
   "execution_count": null,
   "id": "6f87c58d",
   "metadata": {},
   "outputs": [],
   "source": []
  }
 ],
 "metadata": {
  "kernelspec": {
   "display_name": "Python 3 (ipykernel)",
   "language": "python",
   "name": "python3"
  },
  "language_info": {
   "codemirror_mode": {
    "name": "ipython",
    "version": 3
   },
   "file_extension": ".py",
   "mimetype": "text/x-python",
   "name": "python",
   "nbconvert_exporter": "python",
   "pygments_lexer": "ipython3",
   "version": "3.9.12"
  }
 },
 "nbformat": 4,
 "nbformat_minor": 5
}
