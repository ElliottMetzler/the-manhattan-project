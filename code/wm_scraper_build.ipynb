{
 "cells": [
  {
   "cell_type": "code",
   "execution_count": 34,
   "id": "47c3d2f2",
   "metadata": {},
   "outputs": [],
   "source": [
    "import pandas as pd\n",
    "import requests\n",
    "from bs4 import BeautifulSoup\n",
    "import csv\n",
    "import os\n",
    "import re\n",
    "INGRED_PATH = 'https://raw.githubusercontent.com/ElliottMetzler/the-manhattan-project/get_data/data/ingredients.csv'\n",
    "OUTPUT_DIR = \"data\"\n",
    "OUTPUT_PATH = os.path.join(OUTPUT_DIR, 'ingredient_prices.csv')\n",
    "header = {'User-Agent': 'Mozilla/5.0 (Windows NT 10.0; Win64; x64; rv:99.0) Gecko/20100101 Firefox/99.0',\n",
    "'Accept': '*/*',\n",
    "'Accept-Language': 'en-US,en;q=0.5',\n",
    "'Accept-Encoding': 'gzip, deflate, br',\n",
    "'Origin': 'https://www.walmart.com',\n",
    "'Connection': 'keep-alive',\n",
    "'Referer': 'https://www.walmart.com/',\n",
    "'Cookie': 'U=e33b391aebc7946c7f4ae8b7b120d8e5; s=b09113a20b79b2bdde3523b9467cdd73',\n",
    "'TE': 'trailers',\n",
    "'Sec-Fetch-Dest': 'empty',\n",
    "'Sec-Fetch-Mode': 'cors',\n",
    "'Sec-Fetch-Site': 'cross-site'}"
   ]
  },
  {
   "cell_type": "code",
   "execution_count": 35,
   "id": "7d7e6fe2",
   "metadata": {},
   "outputs": [],
   "source": [
    "def load_ingredients(path):\n",
    "    \"\"\" Loads the list of ingredients to a dataframe \"\"\"\n",
    "\n",
    "    ingredients = pd.read_csv(INGRED_PATH, header = None)\n",
    "    return ingredients[0:50]"
   ]
  },
  {
   "cell_type": "code",
   "execution_count": 36,
   "id": "b413bfa5",
   "metadata": {},
   "outputs": [],
   "source": [
    "def get_wm_search(query):\n",
    "\"\"\" Takes a word and returns the search page on Walmart's website\"\"\"\n",
    "\n",
    "    url = \"https://www.walmart.com/search?q=\"+query\n",
    "    page = requests.get(url, headers=header)\n",
    "    if page.status_code == 200:\n",
    "        return page\n",
    "    else:\n",
    "        return \"Error\""
   ]
  },
  {
   "cell_type": "code",
   "execution_count": 37,
   "id": "1440aedf",
   "metadata": {},
   "outputs": [],
   "source": [
    "def get_page_prices(searches):\n",
    "    \"\"\" Takes the ingredient searches and outputs the first option's price/oz. Outputs (ingredient, price) tuples.\"\"\"\n",
    "\n",
    "    soup_list = searches[0]\n",
    "    ingredient_list = searches[1]\n",
    "    price_list = []\n",
    "    price_dict = {}\n",
    "        for s in range(len(soup_list)):\n",
    "        page_results = soup_list[s].find('div', {'class': 'flex flex-wrap justify-start items-center lh-title mb2 mb1-m'})\n",
    "        for p in page_results:\n",
    "            price_oz = p.find('div', {'class': 'f7 f6-l gray mr1'}).text\n",
    "            price_dict[ingredient_list[s]] = price_oz\n",
    "    return price_dict"
   ]
  },
  {
   "cell_type": "code",
   "execution_count": 38,
   "id": "b04f17ea",
   "metadata": {
    "scrolled": true
   },
   "outputs": [],
   "source": [
    "def to_csv(price_dict, path):\n",
    "\"\"\" Takes the list of (ingredient, price/oz) tuples and writes them to a csv\"\"\"\n",
    "\n",
    "    with open(OUTPUT_PATH, 'w+') as out_file:\n",
    "        csv_writer = csv.writer(out_file)\n",
    "        header = ['ingredient', 'price_per_oz']\n",
    "        csv_writer.writerow(header)\n",
    "        csv_writer.writerows(price_dict)"
   ]
  },
  {
   "cell_type": "code",
   "execution_count": null,
   "id": "07de16bb",
   "metadata": {},
   "outputs": [],
   "source": [
    "if __name__ == \"__main__\":\n",
    "\n",
    "    os.makedirs(OUTPUT_DIR, exist_ok = True)\n",
    "    ingredients = load_ingredients(INGRED_PATH)\n",
    "    ingredient_llist = get_item_searches(ingredients)\n",
    "    price_dict = get_page_prices(ingredient_llist)\n",
    "    to_csv(price_dict, OUTPUT_PATH)"
   ]
  },
  {
   "cell_type": "code",
   "execution_count": null,
   "id": "a36337d5",
   "metadata": {},
   "outputs": [],
   "source": []
  }
 ],
 "metadata": {
  "kernelspec": {
   "display_name": "Python 3 (ipykernel)",
   "language": "python",
   "name": "python3"
  },
  "language_info": {
   "codemirror_mode": {
    "name": "ipython",
    "version": 3
   },
   "file_extension": ".py",
   "mimetype": "text/x-python",
   "name": "python",
   "nbconvert_exporter": "python",
   "pygments_lexer": "ipython3",
   "version": "3.9.12"
  }
 },
 "nbformat": 4,
 "nbformat_minor": 5
}
