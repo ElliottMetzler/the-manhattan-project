{
 "cells": [
  {
   "cell_type": "code",
   "execution_count": 23,
   "id": "9b767a5f",
   "metadata": {
    "scrolled": true
   },
   "outputs": [],
   "source": [
    "import pandas as pd\n",
    "from quant_preprocess import query_and_preprocess_data\n",
    "\n",
    "df = query_and_preprocess_data()"
   ]
  },
  {
   "cell_type": "code",
   "execution_count": 2,
   "id": "eaf9fff6",
   "metadata": {
    "scrolled": true
   },
   "outputs": [],
   "source": [
    "def create_dummies(df):\n",
    "    \n",
    "    headers = df.columns[1:]\n",
    "    d = {'strdrink': df['strdrink'].values.tolist()}\n",
    "    for e in range(0, len(headers)):\n",
    "        d[headers[e]] = (df[str(headers[e])] > 0).astype(int).values.tolist()\n",
    "    return pd.DataFrame.from_dict(d)"
   ]
  },
  {
   "cell_type": "code",
   "execution_count": 7,
   "id": "a53ef702",
   "metadata": {
    "scrolled": false
   },
   "outputs": [],
   "source": [
    "def summmary_of_oz(df):\n",
    "   \n",
    "    return df.describe().transpose().sort_values('mean',\n",
    "                                ascending = False).head(10)"
   ]
  },
  {
   "cell_type": "code",
   "execution_count": 20,
   "id": "a8eed241",
   "metadata": {},
   "outputs": [],
   "source": [
    "def summary_of_usage():\n",
    "    \n",
    "    df = query_and_preprocess_data()\n",
    "    df = create_dummies(df)\n",
    "    dum_df = create_dummies(df)\n",
    "    headers = dum_df.columns[1:].values.tolist()\n",
    "    data = dum_df.describe().transpose().sort_values('mean', \n",
    "                                    ascending=False).head(10)\n",
    "        \n",
    "    return data\n",
    "    "
   ]
  }
 ],
 "metadata": {
  "kernelspec": {
   "display_name": "Python 3 (ipykernel)",
   "language": "python",
   "name": "python3"
  },
  "language_info": {
   "codemirror_mode": {
    "name": "ipython",
    "version": 3
   },
   "file_extension": ".py",
   "mimetype": "text/x-python",
   "name": "python",
   "nbconvert_exporter": "python",
   "pygments_lexer": "ipython3",
   "version": "3.9.12"
  }
 },
 "nbformat": 4,
 "nbformat_minor": 5
}
