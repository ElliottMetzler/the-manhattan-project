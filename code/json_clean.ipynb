{
 "cells": [
  {
   "cell_type": "code",
   "execution_count": 1,
   "id": "a22553a6",
   "metadata": {},
   "outputs": [],
   "source": [
    "import pandas as pd\n",
    "from pandas import json_normalize\n",
    "import requests\n",
    "import json\n",
    "import csv\n",
    "import os\n",
    "import pickle\n",
    "import re\n",
    "\n",
    "###notes:\n",
    "# have done indexes0:3, salt(find the index), and 200:296\n",
    "\n",
    "params = {\n",
    "    'api_key':'4F60666AD7F14FE49237DE1B9E2FB925',\n",
    "    'type':'search',\n",
    "    'sort_by': 'best_seller'\n",
    "}\n",
    "\n",
    "\n",
    "INGRED_PATH = 'https://raw.githubusercontent.com/ElliottMetzler/the-manhattan-project/main/data/ingredients_data_raw.csv'\n",
    "OUT_DIR = \"data\"\n",
    "JSON_PATH = os.path.join(OUT_DIR, 'items.txt')\n",
    "OUT_PATH = os.path.join(OUT_DIR, 'ingredient_prices.csv')"
   ]
  },
  {
   "cell_type": "code",
   "execution_count": 2,
   "id": "88c8e470",
   "metadata": {},
   "outputs": [],
   "source": [
    "def load_ingredients(path):\n",
    "    \"\"\" Loads the list of ingredients to a dataframe \"\"\"\n",
    "\n",
    "    ingredients = pd.read_csv(INGRED_PATH, header = None)[200:296]\n",
    "    return ingredients[0].values.tolist()\n",
    "def get_item_jsons(params):\n",
    "    \n",
    "    json_list = []\n",
    "    ingredients = load_ingredients(INGRED_PATH)\n",
    "    for i in ingredients:\n",
    "        params['search_term'] = i\n",
    "        result = requests.get('https://api.bluecartapi.com/request', \n",
    "                                      params)\n",
    "        json_list.append(json.dumps(result.json()))\n",
    "    return json_list\n",
    "        "
   ]
  },
  {
   "cell_type": "code",
   "execution_count": 31,
   "id": "1b069f77",
   "metadata": {},
   "outputs": [],
   "source": [
    "def read_txt_as_json():\n",
    "    \n",
    "    \n",
    "    with open('..//data//item_jsons.txt') as text:\n",
    "        json_list = [line.rstrip(\"\\n\") for line in text]\n",
    "        for j in json_list:\n",
    "            i = json.loads(j)\n",
    "            print(i)\n",
    "            break\n",
    "            \n",
    "            "
   ]
  },
  {
   "cell_type": "code",
   "execution_count": 32,
   "id": "91e29f96",
   "metadata": {},
   "outputs": [
    {
     "name": "stdout",
     "output_type": "stream",
     "text": [
      "{'request_info': {'success': True, 'credits_used': 2, 'credits_remaining': 98, 'credits_used_this_request': 1}, 'request_parameters': {'type': 'search', 'sort_by': 'best_seller', 'search_term': 'vodka'}, 'search_results': [{'position': 1, 'product': {'title': 'Bumper Reinforcement for 2010 Hyundai Genesis Coupe Front RH01250001', 'link': 'https://www.walmart.com/ip/Bumper-Reinforcement-for-2010-Hyundai-Genesis-Coupe-Front-RH01250001/767070606', 'description': '<li>Manufactured from top quality components, this is your best option and inexpensive replacement for your rebuild, repair, and maintenance needs - an OE replacement product for your damaged or aged</li>', 'item_id': '767070606', 'product_id': '11LW53KZ9CC7', 'images': ['https://i5.walmartimages.com/asr/36092ec8-2335-481b-90a8-7808cf8e9439.6808936d1945ef6fe28c0d410ffd39ab.jpeg?odnHeight=180&odnWidth=180&odnBg=ffffff'], 'main_image': 'https://i5.walmartimages.com/asr/36092ec8-2335-481b-90a8-7808cf8e9439.6808936d1945ef6fe28c0d410ffd39ab.jpeg?odnHeight=180&odnWidth=180&odnBg=ffffff', 'rating': 0, 'ratings_total': 0}, 'inventory': {'in_stock': True, 'preorder': False}, 'offers': {'primary': {'price': 197.99, 'currency_symbol': '$', 'id': '62B354D191A34689BEAB58FF32B309C7', 'seller': {'name': 'Part Synergy', 'id': 'FF35280C0E1B42E1BFF907AFA9D8ABAC'}}, 'is_marketplace_item': True}, 'fulfillment': {'pickup': False, 'delivery_from_store': False, 'shipping': True, 'shipping_days': 3}}, {'position': 2, 'product': {'title': 'Aristocrat Vodka, 1.75 L Bottle', 'link': 'https://www.walmart.com/ip/Aristocrat-Vodka-1-75-L-Bottle/10984623', 'item_id': '10984623', 'product_id': '78QVMTVOMVZA', 'images': ['https://i5.walmartimages.com/asr/8c24079b-ec11-4347-80fa-b06326d6b4f9.cc39b95a5ac249180132eea571f39245.jpeg?odnHeight=180&odnWidth=180&odnBg=ffffff'], 'main_image': 'https://i5.walmartimages.com/asr/8c24079b-ec11-4347-80fa-b06326d6b4f9.cc39b95a5ac249180132eea571f39245.jpeg?odnHeight=180&odnWidth=180&odnBg=ffffff', 'rating': 0, 'ratings_total': 0}, 'inventory': {'in_stock': False, 'preorder': False}, 'offers': {'primary': {'price': 10.98, 'currency_symbol': '$', 'id': '63EF843F64DD4C26A0BEED79942F7BEB', 'seller': {'name': 'Walmart.com', 'id': 'F55CDC31AB754BB68FE0B39041159D63'}}, 'is_marketplace_item': False}, 'fulfillment': {'pickup': False, 'delivery_from_store': False, 'shipping': False}}, {'position': 3, 'product': {'title': 'Platinum 7X Extra Smooth Vodka, 375 mL', 'link': 'https://www.walmart.com/ip/Platinum-7X-Extra-Smooth-Vodka-375-mL/104250350', 'description': '<li>Distilled 7 times for an extra smooth taste</li><li>80 proof</li>', 'item_id': '104250350', 'product_id': '6BXGVI5NZGY1', 'images': ['https://i5.walmartimages.com/asr/544471b6-76f2-4e67-a4a7-75126590ac60_1.3d97031d6eda49633206e08f72960d7d.jpeg?odnHeight=180&odnWidth=180&odnBg=ffffff'], 'main_image': 'https://i5.walmartimages.com/asr/544471b6-76f2-4e67-a4a7-75126590ac60_1.3d97031d6eda49633206e08f72960d7d.jpeg?odnHeight=180&odnWidth=180&odnBg=ffffff', 'rating': 0, 'ratings_total': 0}, 'inventory': {'in_stock': False, 'preorder': False}, 'offers': {'primary': {'price': 5.98, 'currency_symbol': '$', 'id': '27ABE338E5DB4B2B9ED835DEF4820C5D', 'list_price': 8.28, 'savings_amount': 2.299999999999999, 'seller': {'name': 'Walmart.com', 'id': 'F55CDC31AB754BB68FE0B39041159D63'}}, 'is_marketplace_item': False}, 'fulfillment': {'pickup': False, 'delivery_from_store': False, 'shipping': False}}, {'position': 4, 'product': {'title': 'Smirnoff Raspberry Vodka 375ml', 'link': 'https://www.walmart.com/ip/Smirnoff-Raspberry-Vodka-375ml/54513684', 'description': 'Smirnoff Raspberry Vodka 375ml', 'item_id': '54513684', 'product_id': '674G4JSG5KV5', 'images': ['https://i5.walmartimages.com/asr/1617efdd-f4b7-4305-acb0-a7a79b66e4b0.0e17d7550f663ec66179238b9a996927.jpeg?odnHeight=180&odnWidth=180&odnBg=ffffff'], 'main_image': 'https://i5.walmartimages.com/asr/1617efdd-f4b7-4305-acb0-a7a79b66e4b0.0e17d7550f663ec66179238b9a996927.jpeg?odnHeight=180&odnWidth=180&odnBg=ffffff', 'rating': 4.3, 'ratings_total': 1943}, 'inventory': {'in_stock': False, 'preorder': False}, 'offers': {'primary': {'price': 8.98, 'currency_symbol': '$', 'id': 'E35E7575435443F38DD0F6F390CD12E9', 'seller': {'name': 'Walmart.com', 'id': 'F55CDC31AB754BB68FE0B39041159D63'}}, 'is_marketplace_item': False}, 'fulfillment': {'pickup': False, 'delivery_from_store': False, 'shipping': False}}], 'category_info': {'is_landing_page': False}, 'pagination': {'current': {'page': 1, 'link': 'https://www.walmart.com/search?query=vodka&soft_sort=false&sort=best_seller'}, 'total_pages': 1, 'other_pages': [{'page': 1, 'link': 'https://www.walmart.com/search?query=vodka&soft_sort=false&sort=best_seller&page=1'}], 'total_results': 6}, 'location_info': {'city': 'Bentonville', 'state': 'AR', 'zipcode': '72712', 'store_id': '3164'}, 'request_metadata': {'created_at': '2022-05-08T01:25:28.597Z', 'processed_at': '2022-05-08T01:25:41.534Z', 'total_time_taken': 12.94, 'walmart_url': 'https://www.walmart.com/search?query=vodka&soft_sort=false&sort=best_seller'}}\n"
     ]
    }
   ],
   "source": [
    "read_txt_as_json()"
   ]
  },
  {
   "cell_type": "code",
   "execution_count": 130,
   "id": "e442330f",
   "metadata": {},
   "outputs": [],
   "source": [
    "# def json_to_text(jsons, path):\n",
    "    \n",
    "    \n",
    "#     f = open(path, \"w+\")\n",
    "#     for i in jsons:\n",
    "#         f.write(i + \"\\n\")\n",
    "#     f.close()\n",
    "# def to_csv(price_dict, path):\n",
    "# \"\"\" Takes the list of (ingredient, price/oz) tuples and writes them to a csv\"\"\"\n",
    "\n",
    "#     with open(OUT_PATH, 'w+') as out_file:\n",
    "#         csv_writer = csv.writer(out_file)\n",
    "#         header = ['ingredient', 'price_per_oz']\n",
    "#         csv_writer.writerow(header)\n",
    "#         csv_writer.writerows(price_dict)"
   ]
  },
  {
   "cell_type": "code",
   "execution_count": 127,
   "id": "af68ede9",
   "metadata": {},
   "outputs": [],
   "source": [
    "# if __name__ == '__main__':\n",
    "\n",
    "#     os.makedirs(OUT_DIR, exist_ok = True)\n",
    "#     json_to_text(jsons, JSON_PATH)\n",
    "#     to_csv(item_dict, OUT_PATH)\n",
    "\n",
    "    "
   ]
  }
 ],
 "metadata": {
  "kernelspec": {
   "display_name": "Python 3 (ipykernel)",
   "language": "python",
   "name": "python3"
  },
  "language_info": {
   "codemirror_mode": {
    "name": "ipython",
    "version": 3
   },
   "file_extension": ".py",
   "mimetype": "text/x-python",
   "name": "python",
   "nbconvert_exporter": "python",
   "pygments_lexer": "ipython3",
   "version": "3.9.12"
  }
 },
 "nbformat": 4,
 "nbformat_minor": 5
}
