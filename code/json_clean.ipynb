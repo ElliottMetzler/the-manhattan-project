{
 "cells": [
  {
   "cell_type": "code",
   "execution_count": 132,
   "id": "a22553a6",
   "metadata": {},
   "outputs": [],
   "source": [
    "import pandas as pd\n",
    "from pandas import json_normalize\n",
    "import requests\n",
    "import json\n",
    "import csv\n",
    "import os\n",
    "import pickle\n",
    "import re\n",
    "\n",
    "###notes:\n",
    "# have done indexes0:3, salt(find the index), and 200:296\n",
    "\n",
    "params = {\n",
    "    'api_key':'4F60666AD7F14FE49237DE1B9E2FB925',\n",
    "    'type':'search',\n",
    "    'sort_by': 'best_seller'\n",
    "}\n",
    "\n",
    "INGRED_PATH = 'https://raw.githubusercontent.com/ElliottMetzler/the-manhattan-project/main/data/ingredients_data_raw.csv'\n",
    "OUT_DIR = \"data\"\n",
    "JSON_PATH = os.path.join(OUTPUT_DIR, 'items.txt')\n",
    "OUT_PATH = os.path.join(OUTPUT_DIR, 'ingredient_prices.csv')"
   ]
  },
  {
   "cell_type": "code",
   "execution_count": 68,
   "id": "88c8e470",
   "metadata": {},
   "outputs": [],
   "source": [
    "def load_ingredients(path):\n",
    "    \"\"\" Loads the list of ingredients to a dataframe \"\"\"\n",
    "\n",
    "    ingredients = pd.read_csv(INGRED_PATH, header = None)[200:296]\n",
    "    return ingredients[0].values.tolist()\n",
    "def get_item_jsons(params):\n",
    "    \n",
    "    json_list = []\n",
    "    ingredients = load_ingredients(INGRED_PATH)\n",
    "    for i in ingredients:\n",
    "        params['search_term'] = i\n",
    "        result = requests.get('https://api.bluecartapi.com/request', \n",
    "                                      params)\n",
    "        json_list.append(json.dumps(result.json()))\n",
    "    return json_list\n",
    "        "
   ]
  },
  {
   "cell_type": "code",
   "execution_count": null,
   "id": "1095655a",
   "metadata": {},
   "outputs": [],
   "source": []
  },
  {
   "cell_type": "code",
   "execution_count": 130,
   "id": "e442330f",
   "metadata": {},
   "outputs": [],
   "source": [
    "# def json_to_text(jsons, path):\n",
    "    \n",
    "    \n",
    "#     f = open(path, \"w+\")\n",
    "#     for i in jsons:\n",
    "#         f.write(i + \"\\n\")\n",
    "#     f.close()\n",
    "# def to_csv(price_dict, path):\n",
    "# \"\"\" Takes the list of (ingredient, price/oz) tuples and writes them to a csv\"\"\"\n",
    "\n",
    "#     with open(OUT_PATH, 'w+') as out_file:\n",
    "#         csv_writer = csv.writer(out_file)\n",
    "#         header = ['ingredient', 'price_per_oz']\n",
    "#         csv_writer.writerow(header)\n",
    "#         csv_writer.writerows(price_dict)"
   ]
  },
  {
   "cell_type": "code",
   "execution_count": 127,
   "id": "af68ede9",
   "metadata": {},
   "outputs": [],
   "source": [
    "# if __name__ == '__main__':\n",
    "\n",
    "#     os.makedirs(OUT_DIR, exist_ok = True)\n",
    "#     json_to_text(jsons, JSON_PATH)\n",
    "#     to_csv(item_dict, OUT_PATH)\n",
    "\n",
    "    "
   ]
  }
 ],
 "metadata": {
  "kernelspec": {
   "display_name": "Python 3 (ipykernel)",
   "language": "python",
   "name": "python3"
  },
  "language_info": {
   "codemirror_mode": {
    "name": "ipython",
    "version": 3
   },
   "file_extension": ".py",
   "mimetype": "text/x-python",
   "name": "python",
   "nbconvert_exporter": "python",
   "pygments_lexer": "ipython3",
   "version": "3.9.12"
  }
 },
 "nbformat": 4,
 "nbformat_minor": 5
}
