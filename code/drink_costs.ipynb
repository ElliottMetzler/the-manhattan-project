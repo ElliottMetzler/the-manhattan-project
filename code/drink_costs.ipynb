{
 "cells": [
  {
   "cell_type": "code",
   "execution_count": 11,
   "id": "9b767a5f",
   "metadata": {
    "scrolled": true
   },
   "outputs": [],
   "source": [
    "import pandas as pd\n",
    "import numpy as np\n",
    "from database import engine\n",
    "import seaborn as sns\n",
    "import statsmodels.api as sm\n",
    "import matplotlib.pyplot as plt\n",
    "import subprocess\n",
    "from ingredient_map import create_ingredient_map\n",
    "from quant_preprocess import query_data\n",
    "from quant_preprocess import cols_to_lower\n",
    "from quant_preprocess import get_cols_list\n",
    "from quant_preprocess import query_and_preprocess_data\n",
    "from quant_preprocess import shape_data_long\n",
    "from quant_preprocess import merge_long\n",
    "from quant_preprocess import pivot_wide\n",
    "from quant_preprocess import recode_ingredients\n",
    "import os\n",
    "\n",
    "\n",
    "INPUT_PATH = os.path.join(\"..\\\\data\", \"ingredient_prices_clean.csv\")\n",
    "TABLE_DIR = \"tables\"\n",
    "FIGURE_DIR = \"figures\"\n",
    "\n",
    "\n",
    "\n",
    "liquors = [\"brandy\",\"gin\",\"tequila\",\"vodka\",\"whiskey\",\"flavored rum\",\"flavored vodka\",\"cognac\",\"bourbon\",\"rum\",\"scotch\",\"grain alcohol\"]"
   ]
  },
  {
   "cell_type": "code",
   "execution_count": 12,
   "id": "eaf9fff6",
   "metadata": {
    "scrolled": true
   },
   "outputs": [],
   "source": [
    "def create_dummies():\n",
    "    \"\"\"\"Creates dummy variables for ingredients\"\"\"\n",
    "    \n",
    "    df = query_and_preprocess_data()\n",
    "    headers = df.columns[1:]\n",
    "    d = {'strdrink': df['strdrink'].values.tolist()}\n",
    "    for e in range(0, len(headers)):\n",
    "        d[headers[e]] = (df[str(headers[e])] > 0).astype(int).values.tolist()\n",
    "    return pd.DataFrame.from_dict(d)"
   ]
  },
  {
   "cell_type": "code",
   "execution_count": 13,
   "id": "a53ef702",
   "metadata": {
    "scrolled": false
   },
   "outputs": [],
   "source": [
    "def summmary_of_oz():\n",
    "    \"\"\"\"Creates summary table for ingredients in ounces\"\"\"\n",
    "    \n",
    "    df = query_and_preprocess_data()\n",
    "    df = df.describe().transpose().sort_values('mean',\n",
    "                                ascending = False).head(10)\n",
    "    df = df[[\"mean\"]]\n",
    "    return df"
   ]
  },
  {
   "cell_type": "code",
   "execution_count": 85,
   "id": "a8eed241",
   "metadata": {},
   "outputs": [],
   "source": [
    "def summary_of_usage():\n",
    "    \n",
    "    filename = os.path.join(TABLE_DIR, 'usage.tex')\n",
    "    pdffile = os.path.join(TABLE_DIR,'usage.pdf')\n",
    "    outname = os.path.join(TABLE_DIR,'usage.png')\n",
    "    \n",
    "    dum_df = create_dummies()\n",
    "    data = dum_df.describe().transpose().sort_values('mean', \n",
    "                                    ascending=False).head(10)\n",
    "    data = data[[\"mean\"]]\n",
    "    data = data.rename(columns={\"mean\":\"Proportion of Drinks\"})\n",
    "    data.index.name = \"Ingredient\"\n",
    "    \n",
    "#     template = r'''\\documentclass[preview]{{standalone}}\n",
    "#     \\usepackage{{booktabs}}\n",
    "#     \\begin{{document}}\n",
    "#     {}\n",
    "#     \\end{{document}}\n",
    "#     '''\n",
    "#     with open(filename, 'wt') as f:\n",
    "#         f.write(template.format(data.to_latex()))\n",
    "#     subprocess.call(['pdflatex', filename])\n",
    "#     subprocess.call(['convert', '-density', '300', pdffile, '-quality', '90', outname])\n",
    "    return data\n",
    "    "
   ]
  },
  {
   "cell_type": "code",
   "execution_count": 15,
   "id": "e5ceb787",
   "metadata": {},
   "outputs": [],
   "source": [
    "def get_amount_table():\n",
    "    \n",
    "    \n",
    "    df = query_data()\n",
    "    ingred_cols = get_cols_list(df, \"stringredient\")\n",
    "    measure_cols = get_cols_list(df, \"strmeasure\")\n",
    "    df[ingred_cols] = cols_to_lower(df, ingred_cols)\n",
    "    ingredient_long = shape_data_long(\n",
    "            df, ingred_cols, \"stringredient\", \"\", \"ingredient\"\n",
    "        )\n",
    "    measure_long = shape_data_long(df, measure_cols, \"strmeasure\", \"_clean\", \"amount\")\n",
    "    combined_long = merge_long(ingredient_long, measure_long)\n",
    "    ingredient_dict = create_ingredient_map()\n",
    "    recoded_long = recode_ingredients(combined_long, ingredient_dict)\n",
    "    combined_wide = pivot_wide(recoded_long)\n",
    "    return combined_wide\n"
   ]
  },
  {
   "cell_type": "code",
   "execution_count": 52,
   "id": "4ca1fed7",
   "metadata": {},
   "outputs": [],
   "source": [
    "def drop_big_drinks():\n",
    "\n",
    "    \n",
    "    df = get_amount_table()\n",
    "    df = df.set_index(\"strdrink\")\n",
    "    df = df.transpose()\n",
    "    for d in df:\n",
    "        if (df.sum(axis=0)[d] < 2.5) or (df.sum(axis=0)[d] > 12):\n",
    "            df = df.drop(d,axis=1)\n",
    "    return df.columns.values.tolist()\n",
    "    \n"
   ]
  },
  {
   "cell_type": "code",
   "execution_count": 53,
   "id": "937c4452",
   "metadata": {},
   "outputs": [],
   "source": [
    "def number_of_ingredients():\n",
    "    \n",
    "    ingreds = []\n",
    "    drinks = drop_big_drinks()\n",
    "    data = create_dummies()\n",
    "    data = data.set_index(\"strdrink\")\n",
    "    data = data.transpose()[drinks]\n",
    "    return data.sum(axis=0).tolist()\n",
    "\n",
    "    "
   ]
  },
  {
   "cell_type": "code",
   "execution_count": 54,
   "id": "86d2f92d",
   "metadata": {},
   "outputs": [],
   "source": [
    "def prices_list():\n",
    "    \n",
    "    df_prices = pd.read_csv(INPUT_PATH, header=None)\n",
    "    df_prices = df_prices.sort_values(0, ascending=True)\n",
    "    df_prices = df_prices.transpose()\n",
    "    prices = df_prices.loc[1].values.tolist()\n",
    "    return prices"
   ]
  },
  {
   "cell_type": "code",
   "execution_count": 55,
   "id": "23e482ae",
   "metadata": {},
   "outputs": [],
   "source": [
    "def combine_prices_ingredients():\n",
    "    \n",
    "    ingredients = get_amount_table()\n",
    "    ingredients = ingredients.transpose()\n",
    "    ingredients =  ingredients.drop(labels=\"strdrink\",axis=0)\n",
    "    prices = prices_list()\n",
    "    ingredients[\"prices\"] = prices\n",
    "    return ingredients"
   ]
  },
  {
   "cell_type": "code",
   "execution_count": 56,
   "id": "ba334079",
   "metadata": {},
   "outputs": [],
   "source": [
    "def get_ingredient_cost():\n",
    "    df = get_amount_table()\n",
    "    drinks = df[\"strdrink\"].values.tolist()\n",
    "    df = combine_prices_ingredients()\n",
    "    for i in range(0,627):\n",
    "        df[i] = df[i]*df[\"prices\"]\n",
    "    df= df.transpose()\n",
    "    df = df.drop(labels = \"prices\", axis = 0)\n",
    "    df[\"strdrink\"] = drinks\n",
    "    df = df.transpose()\n",
    "    return df"
   ]
  },
  {
   "cell_type": "code",
   "execution_count": 57,
   "id": "652f5338",
   "metadata": {},
   "outputs": [],
   "source": [
    "def drop_all_zero_dummies():\n",
    "\n",
    "    liquors = [\"brandy\",\"gin\",\"tequila\",\"vodka\",\"whiskey\",\"flavored rum\",\"flavored vodka\",\"cognac\",\"bourbon\",\"rum\",\"scotch\",\"grain alcohol\"]\n",
    "    dummies = create_dummies()\n",
    "    dummies = dummies[liquors].replace(0, np.nan)\n",
    "    dummies = dummies.dropna(how='all', axis=0)\n",
    "    dummies = dummies.replace(np.nan, 0)\n",
    "    \n",
    "    return dummies"
   ]
  },
  {
   "cell_type": "code",
   "execution_count": 99,
   "id": "aec8aa2c",
   "metadata": {},
   "outputs": [],
   "source": [
    "def most_popular_liquor_table():\n",
    "    \n",
    "    filename = os.path.join(TABLE_DIR, 'pop_liquor.tex')\n",
    "    pdffile = os.path.join(TABLE_DIR,'pop_liquor.pdf')\n",
    "    outname = os.path.join(TABLE_DIR,'pop_liquor.png')\n",
    "    df = drop_all_zero_dummies()\n",
    "    df = df.describe().transpose().sort_values('mean', \n",
    "                                        ascending=False).head(15)\n",
    "    df = df[[\"mean\"]]\n",
    "    df = df.rename(columns={\"mean\":\"Proportion of Drinks\"})\n",
    "    df.index.name = \"Liquor\"\n",
    "    \n",
    "#     template = r'''\\documentclass[preview]{{standalone}}\n",
    "#     \\usepackage{{booktabs}}\n",
    "#     \\begin{{document}}\n",
    "#     {}\n",
    "#     \\end{{document}}\n",
    "#     '''\n",
    "#     with open(filename, 'wt') as f:\n",
    "#         f.write(template.format(data.to_latex()))\n",
    "#     subprocess.call(['pdflatex', filename])\n",
    "#     subprocess.call(['convert', '-density', '300', pdffile, '-quality', '90', outname])\n",
    "    return df"
   ]
  },
  {
   "cell_type": "code",
   "execution_count": 75,
   "id": "ccf1ab6b",
   "metadata": {
    "scrolled": true
   },
   "outputs": [],
   "source": [
    "def ounces_of_alc():\n",
    "    \n",
    "    liquor = pd.read_csv('https://raw.githubusercontent.com/ElliottMetzler/the-manhattan-project/quant/data/ABV_list.csv')\n",
    "    liquor.columns = [\"ingredient\", \"abv\"]\n",
    "    l = liquor['ingredient'].values.tolist()\n",
    "    small = drop_big_drinks()\n",
    "    data = get_amount_table()\n",
    "    data = data.set_index(\"strdrink\")\n",
    "    drinks = data.index.values.tolist()\n",
    "    data = data[l].transpose()\n",
    "    data = data[small]\n",
    "    data = pd.merge(data,liquor,how=\"left\",on=\"ingredient\")\n",
    "    data = data.drop(\"ingredient\",axis=1)\n",
    "    for d in data:\n",
    "        data[d] = data[d].multiply(data[\"abv\"])\n",
    "    data[\"ingredient\"] = l\n",
    "    data = data.drop(\"abv\",axis=1)\n",
    "    data = data.sum(axis=0)\n",
    "    data = pd.DataFrame(data)\n",
    "    data = data.transpose().drop(\"ingredient\", axis=1)\n",
    "    return data\n",
    "\n"
   ]
  },
  {
   "cell_type": "code",
   "execution_count": 76,
   "id": "6b9de6e9",
   "metadata": {
    "scrolled": true
   },
   "outputs": [],
   "source": [
    "def model():\n",
    "    \"\"\"\"Creates a dataframe that contains our dependent and independent variables for the OLS regression.\"\"\"\n",
    "    \n",
    "    co = get_cost_per_alc_ounce().transpose()\n",
    "    liquors = [\"brandy\",\"gin\",\"tequila\",\"vodka\",\"whiskey\",\"flavored rum\",\"flavored vodka\",\"cognac\",\"bourbon\",\"rum\",\"scotch\",\"grain alcohol\"]\n",
    "    number = number_of_ingredients()\n",
    "    data = get_ingredient_cost()\n",
    "    amounts = get_amount_table()\n",
    "    data.columns = data.loc['strdrink']\n",
    "    drinks = data.columns.values.tolist()\n",
    "    data = data.drop(\"strdrink\", axis=0)\n",
    "    df_cost = data.transpose()\n",
    "    cost = df_cost.sum(axis=1).values.tolist()\n",
    "    amounts = amounts.sum(axis=1).values.tolist()\n",
    "    d = {\n",
    "        \"strdrink\": drinks,\n",
    "        \"cost\": cost,\n",
    "        \"total oz\": amounts\n",
    "    }\n",
    "    drinks = drop_big_drinks()\n",
    "    co[\"drinks\"] = drinks\n",
    "    df = pd.DataFrame(d).set_index(\"strdrink\").transpose()\n",
    "    df = df[drinks].transpose()\n",
    "    df[\"number of ingredients\"] = number\n",
    "    dummies = create_dummies().set_index(\"strdrink\")\n",
    "    dummies = dummies[liquors]\n",
    "    dummies = dummies.replace(0, np.nan)\n",
    "    dummies = dummies.dropna(how='all', axis=0)\n",
    "    dummies = dummies.replace(np.nan, 0)\n",
    "    model = dummies.merge(df, how=\"inner\",on=\"strdrink\")\n",
    "    co = co.rename(columns={\"drinks\":\"strdrink\",0:\"abv\"})\n",
    "    model = model.merge(co,how=\"inner\",on='strdrink')\n",
    "    model[\"alc per dollar\"] = model[\"abv\"]/model[\"cost\"]\n",
    "    model[\"abv\"] = pd.to_numeric(model[\"abv\"])\n",
    "    model[\"alc per dollar\"] = pd.to_numeric(model[\"alc per dollar\"])\n",
    "    \n",
    "    \n",
    "    return model\n"
   ]
  },
  {
   "cell_type": "code",
   "execution_count": 77,
   "id": "b0c1b32d",
   "metadata": {
    "scrolled": true
   },
   "outputs": [],
   "source": [
    "def heat_price_corr_heat():\n",
    "    model = model_2()\n",
    "    \n",
    "    corr = model.corr()\n",
    "    corr_heat = sns.heatmap(corr, xticklabels=corr.columns,yticklabels=corr.columns,cmap=\"RdBu\")\n",
    "\n",
    "    return corr_heat"
   ]
  },
  {
   "cell_type": "code",
   "execution_count": 78,
   "id": "3c0101a7",
   "metadata": {},
   "outputs": [],
   "source": [
    "def ols_price_on_liquor():\n",
    "    \"\"\"Perform OLS regression of pure alchohol per dollar on total ounces, number of ingredient\"\"\"\n",
    "\n",
    "    df = model_2()\n",
    "    covars = [\"total oz\",\"cost\",\"brandy\",\"gin\",\"tequila\",\"vodka\",\"whiskey\",\"flavored rum\",\"flavored vodka\",\"cognac\",\"bourbon\",\"rum\",\"scotch\"]\n",
    " \n",
    "    x = df[covars]\n",
    "    y = df[\"alc per dollar\"]\n",
    "\n",
    "\n",
    "    model = sm.OLS(y.astype(float), sm.add_constant(x.astype(float))).fit()\n",
    "    model_summary = model.summary()\n",
    "\n",
    "    fig, ax = plt.subplots(figsize=(12, 7))\n",
    "\n",
    "    ax.text(\n",
    "        0.01, 0.05, str(model_summary), {\"fontsize\": 10}, fontproperties=\"monospace\"\n",
    "    )\n",
    "    ax.axis(\"off\")\n",
    "    plt.tight_layout()\n",
    "\n"
   ]
  },
  {
   "cell_type": "code",
   "execution_count": 132,
   "id": "e0783fca",
   "metadata": {},
   "outputs": [],
   "source": [
    "def save_plot(figure_obj, output_directory, output_file_name):\n",
    "    \"\"\"Function takes in a figure, the output directory and file name and saves the figure\"\"\"\n",
    "    \n",
    "    path = os.path.join(output_directory, output_file_name)\n",
    "    figure_obj.savefig(path)\n"
   ]
  },
  {
   "cell_type": "code",
   "execution_count": 95,
   "id": "07da9c82",
   "metadata": {},
   "outputs": [],
   "source": [
    "def check_covar_costs():\n",
    "    \"\"\"\"Creates dataframe for the cost of covariates in the OLS regression and outputs as a bar graph\"\"\"\n",
    "    \n",
    "    df_prices = pd.read_csv(INPUT_PATH, header=None)\n",
    "    df_prices = df_prices.transpose()\n",
    "    df_prices.columns = df_prices.loc[0]\n",
    "    df_prices = df_prices.drop(0)\n",
    "    df_prices = df_prices[[\"brandy\",\"gin\",\"tequila\",\"vodka\",\"whiskey\",\"flavored rum\",\"flavored vodka\",\"cognac\",\"bourbon\",\"rum\",\"scotch\",\"grain alcohol\"]]\n",
    "    plot = df_prices.plot.bar(figsize=(15,4),title=\"Summary of Liquor Cost\")\n",
    "    plot = plot.set(xlabel=\"Type of Liquor\",ylabel=\"Cost Per Ounce\")\n",
    "    \n",
    "    return plot"
   ]
  },
  {
   "cell_type": "code",
   "execution_count": null,
   "id": "645e636e",
   "metadata": {},
   "outputs": [],
   "source": [
    "if __name__ == \"__main__\":\n",
    "    os.makedirs(OUTPUT_DIR, exist_ok=True)\n",
    "    save_plot(figure_obj, output_directory, output_file_name)\n",
    "    \n",
    "    "
   ]
  }
 ],
 "metadata": {
  "kernelspec": {
   "display_name": "Python 3 (ipykernel)",
   "language": "python",
   "name": "python3"
  },
  "language_info": {
   "codemirror_mode": {
    "name": "ipython",
    "version": 3
   },
   "file_extension": ".py",
   "mimetype": "text/x-python",
   "name": "python",
   "nbconvert_exporter": "python",
   "pygments_lexer": "ipython3",
   "version": "3.9.12"
  }
 },
 "nbformat": 4,
 "nbformat_minor": 5
}
