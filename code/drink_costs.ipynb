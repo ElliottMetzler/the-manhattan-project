{
 "cells": [
  {
   "cell_type": "code",
   "execution_count": 13,
   "id": "9b767a5f",
   "metadata": {
    "scrolled": true
   },
   "outputs": [],
   "source": [
    "import pandas as pd\n",
    "import numpy as np\n",
    "from database import engine\n",
    "from ingredient_map import create_ingredient_map\n",
    "from quant_preprocess import query_data\n",
    "from quant_preprocess import cols_to_lower\n",
    "from quant_preprocess import get_cols_list\n",
    "from quant_preprocess import query_and_preprocess_data\n",
    "from quant_preprocess import shape_data_long\n",
    "from quant_preprocess import merge_long\n",
    "from quant_preprocess import pivot_wide\n",
    "from quant_preprocess import recode_ingredients\n",
    "import os\n",
    "\n",
    "\n",
    "INPUT_PATH = os.path.join(\"..//data\", \"ingredient_prices_clean.csv\")\n",
    "\n",
    "df_drinks = query_and_preprocess_data()\n",
    "df_prices = pd.read_csv(INPUT_PATH, header=None)"
   ]
  },
  {
   "cell_type": "code",
   "execution_count": 2,
   "id": "eaf9fff6",
   "metadata": {
    "scrolled": true
   },
   "outputs": [],
   "source": [
    "def create_dummies(df):\n",
    "    \n",
    "    headers = df.columns[1:]\n",
    "    d = {'strdrink': df['strdrink'].values.tolist()}\n",
    "    for e in range(0, len(headers)):\n",
    "        d[headers[e]] = (df[str(headers[e])] > 0).astype(int).values.tolist()\n",
    "    return pd.DataFrame.from_dict(d)"
   ]
  },
  {
   "cell_type": "code",
   "execution_count": 3,
   "id": "a53ef702",
   "metadata": {
    "scrolled": false
   },
   "outputs": [],
   "source": [
    "def summmary_of_oz(df):\n",
    "   \n",
    "    return df.describe().transpose().sort_values('mean',\n",
    "                                ascending = False).head(10)"
   ]
  },
  {
   "cell_type": "code",
   "execution_count": 4,
   "id": "a8eed241",
   "metadata": {},
   "outputs": [],
   "source": [
    "def summary_of_usage():\n",
    "    \n",
    "    df = query_and_preprocess_data()\n",
    "    df = create_dummies(df)\n",
    "    dum_df = create_dummies(df)\n",
    "    headers = dum_df.columns[1:].values.tolist()\n",
    "    data = dum_df.describe().transpose().sort_values('mean', \n",
    "                                    ascending=False).head(10)\n",
    "        \n",
    "    return data\n",
    "    "
   ]
  },
  {
   "cell_type": "code",
   "execution_count": 90,
   "id": "e5ceb787",
   "metadata": {},
   "outputs": [],
   "source": [
    "def get_amount_table():\n",
    "    df = query_data()\n",
    "    ingred_cols = get_cols_list(df, \"stringredient\")\n",
    "    measure_cols = get_cols_list(df, \"strmeasure\")\n",
    "    df[ingred_cols] = cols_to_lower(df, ingred_cols)\n",
    "    ingredient_long = shape_data_long(\n",
    "            df, ingred_cols, \"stringredient\", \"\", \"ingredient\"\n",
    "        )\n",
    "    measure_long = shape_data_long(df, measure_cols, \"strmeasure\", \"_clean\", \"amount\")\n",
    "    combined_long = merge_long(ingredient_long, measure_long)\n",
    "    ingredient_dict = create_ingredient_map()\n",
    "    recoded_long = recode_ingredients(combined_long, ingredient_dict)\n",
    "    combined_wide = pivot_wide(recoded_long)\n",
    "    return combined_wide\n"
   ]
  },
  {
   "cell_type": "code",
   "execution_count": 333,
   "id": "08f40e67",
   "metadata": {},
   "outputs": [
    {
     "name": "stderr",
     "output_type": "stream",
     "text": [
      "C:\\Users\\galon\\AppData\\Local\\Temp\\ipykernel_26272\\1727851393.py:2: FutureWarning: Dropping of nuisance columns in DataFrame reductions (with 'numeric_only=None') is deprecated; in a future version this will raise TypeError.  Select only valid columns before calling the reduction.\n",
      "  r.sum(axis=1)\n"
     ]
    },
    {
     "data": {
      "text/plain": [
       "0       2.5\n",
       "1      17.5\n",
       "2       8.5\n",
       "3       5.0\n",
       "4       2.0\n",
       "       ... \n",
       "623     9.0\n",
       "624     7.0\n",
       "625     8.0\n",
       "626     1.5\n",
       "627     6.0\n",
       "Length: 628, dtype: float64"
      ]
     },
     "execution_count": 333,
     "metadata": {},
     "output_type": "execute_result"
    }
   ],
   "source": [
    "r = get_amount_table()\n",
    "r = r.sum(axis=1)"
   ]
  },
  {
   "cell_type": "code",
   "execution_count": 179,
   "id": "86d2f92d",
   "metadata": {},
   "outputs": [],
   "source": [
    "def prices_list():\n",
    "    \n",
    "    df_prices = pd.read_csv(INPUT_PATH, header=None)\n",
    "    df_prices = df_prices.sort_values(0, ascending=True)\n",
    "    df_prices = df_prices.transpose()\n",
    "    prices = df_prices.loc[1].values.tolist()\n",
    "    return prices"
   ]
  },
  {
   "cell_type": "code",
   "execution_count": 192,
   "id": "23e482ae",
   "metadata": {},
   "outputs": [],
   "source": [
    "def combine_prices_ingredients():\n",
    "    ingredients = get_amount_table()\n",
    "    ingredients = ingredients.transpose()\n",
    "    ingredients =  ingredients.drop(labels=\"strdrink\",axis=0)\n",
    "    prices = prices_list()\n",
    "    ingredients[\"prices\"] = prices\n",
    "    return ingredients"
   ]
  },
  {
   "cell_type": "code",
   "execution_count": 244,
   "id": "ba334079",
   "metadata": {},
   "outputs": [],
   "source": [
    "def get_ingredient_cost():\n",
    "    df = get_amount_table()\n",
    "    drinks = df[\"strdrink\"].values.tolist()\n",
    "    df = combine_prices_ingredients()\n",
    "    for i in range(0,627):\n",
    "        df[i] = df[i]*df[\"prices\"]\n",
    "    df= df.transpose()\n",
    "    df = df.drop(labels = \"prices\", axis = 0)\n",
    "    df[\"strdrink\"] = drinks\n",
    "    df = df.transpose()\n",
    "    \n",
    "    return df"
   ]
  },
  {
   "cell_type": "code",
   "execution_count": 344,
   "id": "a8d4213e",
   "metadata": {},
   "outputs": [],
   "source": [
    "def drink_cost():\n",
    "    data = get_ingredient_cost()\n",
    "    amounts = get_amount_table()\n",
    "    data.columns = data.loc['strdrink']\n",
    "    drinks = data.columns.values.tolist()\n",
    "    data = data.drop(\"strdrink\", axis=0)\n",
    "    df_cost = data.transpose()\n",
    "    cost = df_cost.sum(axis=1).values.tolist()\n",
    "    amounts = amounts.sum(axis=1).values.tolist()\n",
    "    d = {\n",
    "        \"strdrink\": drinks,\n",
    "        \"cost\": cost,\n",
    "        \"total oz\": amounts\n",
    "    }\n",
    "    df = pd.DataFrame(d)\n",
    "    \n",
    "    return df"
   ]
  },
  {
   "cell_type": "code",
   "execution_count": 346,
   "id": "7e19cd9d",
   "metadata": {},
   "outputs": [
    {
     "name": "stderr",
     "output_type": "stream",
     "text": [
      "C:\\Users\\galon\\AppData\\Local\\Temp\\ipykernel_26272\\2079265655.py:9: FutureWarning: Dropping of nuisance columns in DataFrame reductions (with 'numeric_only=None') is deprecated; in a future version this will raise TypeError.  Select only valid columns before calling the reduction.\n",
      "  amounts = amounts.sum(axis=1).values.tolist()\n"
     ]
    }
   ],
   "source": [
    "df = drink_cost()"
   ]
  },
  {
   "cell_type": "code",
   "execution_count": 347,
   "id": "7f64708f",
   "metadata": {},
   "outputs": [
    {
     "data": {
      "text/html": [
       "<div>\n",
       "<style scoped>\n",
       "    .dataframe tbody tr th:only-of-type {\n",
       "        vertical-align: middle;\n",
       "    }\n",
       "\n",
       "    .dataframe tbody tr th {\n",
       "        vertical-align: top;\n",
       "    }\n",
       "\n",
       "    .dataframe thead th {\n",
       "        text-align: right;\n",
       "    }\n",
       "</style>\n",
       "<table border=\"1\" class=\"dataframe\">\n",
       "  <thead>\n",
       "    <tr style=\"text-align: right;\">\n",
       "      <th></th>\n",
       "      <th>strdrink</th>\n",
       "      <th>cost</th>\n",
       "      <th>total oz</th>\n",
       "    </tr>\n",
       "  </thead>\n",
       "  <tbody>\n",
       "    <tr>\n",
       "      <th>0</th>\n",
       "      <td>1-900-FUK-MEUP</td>\n",
       "      <td>1.400374</td>\n",
       "      <td>2.5</td>\n",
       "    </tr>\n",
       "    <tr>\n",
       "      <th>1</th>\n",
       "      <td>110 in the shade</td>\n",
       "      <td>2.589531</td>\n",
       "      <td>17.5</td>\n",
       "    </tr>\n",
       "    <tr>\n",
       "      <th>2</th>\n",
       "      <td>151 Florida Bushwacker</td>\n",
       "      <td>3.997031</td>\n",
       "      <td>8.5</td>\n",
       "    </tr>\n",
       "    <tr>\n",
       "      <th>3</th>\n",
       "      <td>155 Belmont</td>\n",
       "      <td>1.994557</td>\n",
       "      <td>5.0</td>\n",
       "    </tr>\n",
       "    <tr>\n",
       "      <th>4</th>\n",
       "      <td>24k nightmare</td>\n",
       "      <td>1.097500</td>\n",
       "      <td>2.0</td>\n",
       "    </tr>\n",
       "    <tr>\n",
       "      <th>...</th>\n",
       "      <td>...</td>\n",
       "      <td>...</td>\n",
       "      <td>...</td>\n",
       "    </tr>\n",
       "    <tr>\n",
       "      <th>623</th>\n",
       "      <td>Zizi Coin-coin</td>\n",
       "      <td>5.553424</td>\n",
       "      <td>9.0</td>\n",
       "    </tr>\n",
       "    <tr>\n",
       "      <th>624</th>\n",
       "      <td>Zoksel</td>\n",
       "      <td>1.568750</td>\n",
       "      <td>7.0</td>\n",
       "    </tr>\n",
       "    <tr>\n",
       "      <th>625</th>\n",
       "      <td>Zombie</td>\n",
       "      <td>5.520212</td>\n",
       "      <td>8.0</td>\n",
       "    </tr>\n",
       "    <tr>\n",
       "      <th>626</th>\n",
       "      <td>Zorbatini</td>\n",
       "      <td>0.736056</td>\n",
       "      <td>1.5</td>\n",
       "    </tr>\n",
       "    <tr>\n",
       "      <th>627</th>\n",
       "      <td>Zorro</td>\n",
       "      <td>6.000000</td>\n",
       "      <td>6.0</td>\n",
       "    </tr>\n",
       "  </tbody>\n",
       "</table>\n",
       "<p>628 rows × 3 columns</p>\n",
       "</div>"
      ],
      "text/plain": [
       "                   strdrink      cost  total oz\n",
       "0            1-900-FUK-MEUP  1.400374       2.5\n",
       "1          110 in the shade  2.589531      17.5\n",
       "2    151 Florida Bushwacker  3.997031       8.5\n",
       "3               155 Belmont  1.994557       5.0\n",
       "4             24k nightmare  1.097500       2.0\n",
       "..                      ...       ...       ...\n",
       "623          Zizi Coin-coin  5.553424       9.0\n",
       "624                  Zoksel  1.568750       7.0\n",
       "625                  Zombie  5.520212       8.0\n",
       "626               Zorbatini  0.736056       1.5\n",
       "627                   Zorro  6.000000       6.0\n",
       "\n",
       "[628 rows x 3 columns]"
      ]
     },
     "execution_count": 347,
     "metadata": {},
     "output_type": "execute_result"
    }
   ],
   "source": [
    "df"
   ]
  },
  {
   "cell_type": "code",
   "execution_count": 349,
   "id": "a9f58b5c",
   "metadata": {},
   "outputs": [
    {
     "data": {
      "text/plain": [
       "0.9717407567440367"
      ]
     },
     "execution_count": 349,
     "metadata": {},
     "output_type": "execute_result"
    }
   ],
   "source": [
    "df[\"cost\"].corr(df[\"total oz\"])"
   ]
  },
  {
   "cell_type": "code",
   "execution_count": null,
   "id": "36ef0cdc",
   "metadata": {},
   "outputs": [],
   "source": []
  }
 ],
 "metadata": {
  "kernelspec": {
   "display_name": "Python 3 (ipykernel)",
   "language": "python",
   "name": "python3"
  },
  "language_info": {
   "codemirror_mode": {
    "name": "ipython",
    "version": 3
   },
   "file_extension": ".py",
   "mimetype": "text/x-python",
   "name": "python",
   "nbconvert_exporter": "python",
   "pygments_lexer": "ipython3",
   "version": "3.9.12"
  }
 },
 "nbformat": 4,
 "nbformat_minor": 5
}
